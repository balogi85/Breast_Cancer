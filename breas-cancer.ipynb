{
 "cells": [
  {
   "cell_type": "code",
   "execution_count": 1,
   "metadata": {
    "_cell_guid": "79c7e3d0-c299-4dcb-8224-4455121ee9b0",
    "_uuid": "d629ff2d2480ee46fbb7e2d37f6b5fab8052498a",
    "execution": {
     "iopub.execute_input": "2020-11-17T19:26:01.453986Z",
     "iopub.status.busy": "2020-11-17T19:26:01.453077Z",
     "iopub.status.idle": "2020-11-17T19:26:02.667195Z",
     "shell.execute_reply": "2020-11-17T19:26:02.666312Z"
    },
    "papermill": {
     "duration": 1.259568,
     "end_time": "2020-11-17T19:26:02.667365",
     "exception": false,
     "start_time": "2020-11-17T19:26:01.407797",
     "status": "completed"
    },
    "tags": []
   },
   "outputs": [],
   "source": [
    "import pandas as pd\n",
    "import numpy as np\n",
    "import matplotlib.pyplot as plt\n",
    "import seaborn as sns\n",
    "\n",
    "%matplotlib inline"
   ]
  },
  {
   "cell_type": "code",
   "execution_count": 2,
   "metadata": {
    "execution": {
     "iopub.execute_input": "2020-11-17T19:26:02.742136Z",
     "iopub.status.busy": "2020-11-17T19:26:02.741128Z",
     "iopub.status.idle": "2020-11-17T19:26:02.744035Z",
     "shell.execute_reply": "2020-11-17T19:26:02.743272Z"
    },
    "papermill": {
     "duration": 0.042033,
     "end_time": "2020-11-17T19:26:02.744171",
     "exception": false,
     "start_time": "2020-11-17T19:26:02.702138",
     "status": "completed"
    },
    "tags": []
   },
   "outputs": [],
   "source": [
    "data = '../input/breast-cancer-wisconsin-data/data.csv'"
   ]
  },
  {
   "cell_type": "code",
   "execution_count": 3,
   "metadata": {
    "execution": {
     "iopub.execute_input": "2020-11-17T19:26:02.822051Z",
     "iopub.status.busy": "2020-11-17T19:26:02.821012Z",
     "iopub.status.idle": "2020-11-17T19:26:02.838967Z",
     "shell.execute_reply": "2020-11-17T19:26:02.838227Z"
    },
    "papermill": {
     "duration": 0.060314,
     "end_time": "2020-11-17T19:26:02.839097",
     "exception": false,
     "start_time": "2020-11-17T19:26:02.778783",
     "status": "completed"
    },
    "tags": []
   },
   "outputs": [],
   "source": [
    "table = pd.read_csv(data)"
   ]
  },
  {
   "cell_type": "code",
   "execution_count": 4,
   "metadata": {
    "execution": {
     "iopub.execute_input": "2020-11-17T19:26:02.921076Z",
     "iopub.status.busy": "2020-11-17T19:26:02.920018Z",
     "iopub.status.idle": "2020-11-17T19:26:02.923190Z",
     "shell.execute_reply": "2020-11-17T19:26:02.923742Z"
    },
    "papermill": {
     "duration": 0.049955,
     "end_time": "2020-11-17T19:26:02.923904",
     "exception": false,
     "start_time": "2020-11-17T19:26:02.873949",
     "status": "completed"
    },
    "tags": []
   },
   "outputs": [],
   "source": [
    "table = table.sample(frac = 1)"
   ]
  },
  {
   "cell_type": "code",
   "execution_count": 5,
   "metadata": {
    "execution": {
     "iopub.execute_input": "2020-11-17T19:26:03.002311Z",
     "iopub.status.busy": "2020-11-17T19:26:03.001114Z",
     "iopub.status.idle": "2020-11-17T19:26:03.006240Z",
     "shell.execute_reply": "2020-11-17T19:26:03.005631Z"
    },
    "papermill": {
     "duration": 0.047137,
     "end_time": "2020-11-17T19:26:03.006402",
     "exception": false,
     "start_time": "2020-11-17T19:26:02.959265",
     "status": "completed"
    },
    "tags": []
   },
   "outputs": [
    {
     "data": {
      "text/plain": [
       "(569, 33)"
      ]
     },
     "execution_count": 5,
     "metadata": {},
     "output_type": "execute_result"
    }
   ],
   "source": [
    "table.shape"
   ]
  },
  {
   "cell_type": "code",
   "execution_count": 6,
   "metadata": {
    "execution": {
     "iopub.execute_input": "2020-11-17T19:26:03.099754Z",
     "iopub.status.busy": "2020-11-17T19:26:03.097084Z",
     "iopub.status.idle": "2020-11-17T19:26:03.121563Z",
     "shell.execute_reply": "2020-11-17T19:26:03.120945Z"
    },
    "papermill": {
     "duration": 0.07894,
     "end_time": "2020-11-17T19:26:03.121703",
     "exception": false,
     "start_time": "2020-11-17T19:26:03.042763",
     "status": "completed"
    },
    "tags": []
   },
   "outputs": [
    {
     "data": {
      "text/html": [
       "<div>\n",
       "<style scoped>\n",
       "    .dataframe tbody tr th:only-of-type {\n",
       "        vertical-align: middle;\n",
       "    }\n",
       "\n",
       "    .dataframe tbody tr th {\n",
       "        vertical-align: top;\n",
       "    }\n",
       "\n",
       "    .dataframe thead th {\n",
       "        text-align: right;\n",
       "    }\n",
       "</style>\n",
       "<table border=\"1\" class=\"dataframe\">\n",
       "  <thead>\n",
       "    <tr style=\"text-align: right;\">\n",
       "      <th></th>\n",
       "      <th>id</th>\n",
       "      <th>diagnosis</th>\n",
       "      <th>radius_mean</th>\n",
       "      <th>texture_mean</th>\n",
       "      <th>perimeter_mean</th>\n",
       "      <th>area_mean</th>\n",
       "      <th>smoothness_mean</th>\n",
       "      <th>compactness_mean</th>\n",
       "      <th>concavity_mean</th>\n",
       "      <th>concave points_mean</th>\n",
       "      <th>...</th>\n",
       "      <th>texture_worst</th>\n",
       "      <th>perimeter_worst</th>\n",
       "      <th>area_worst</th>\n",
       "      <th>smoothness_worst</th>\n",
       "      <th>compactness_worst</th>\n",
       "      <th>concavity_worst</th>\n",
       "      <th>concave points_worst</th>\n",
       "      <th>symmetry_worst</th>\n",
       "      <th>fractal_dimension_worst</th>\n",
       "      <th>Unnamed: 32</th>\n",
       "    </tr>\n",
       "  </thead>\n",
       "  <tbody>\n",
       "    <tr>\n",
       "      <th>416</th>\n",
       "      <td>905978</td>\n",
       "      <td>B</td>\n",
       "      <td>9.405</td>\n",
       "      <td>21.70</td>\n",
       "      <td>59.60</td>\n",
       "      <td>271.2</td>\n",
       "      <td>0.10440</td>\n",
       "      <td>0.06159</td>\n",
       "      <td>0.02047</td>\n",
       "      <td>0.01257</td>\n",
       "      <td>...</td>\n",
       "      <td>31.24</td>\n",
       "      <td>68.73</td>\n",
       "      <td>359.4</td>\n",
       "      <td>0.1526</td>\n",
       "      <td>0.1193</td>\n",
       "      <td>0.06141</td>\n",
       "      <td>0.0377</td>\n",
       "      <td>0.2872</td>\n",
       "      <td>0.08304</td>\n",
       "      <td>NaN</td>\n",
       "    </tr>\n",
       "    <tr>\n",
       "      <th>392</th>\n",
       "      <td>903507</td>\n",
       "      <td>M</td>\n",
       "      <td>15.490</td>\n",
       "      <td>19.97</td>\n",
       "      <td>102.40</td>\n",
       "      <td>744.7</td>\n",
       "      <td>0.11600</td>\n",
       "      <td>0.15620</td>\n",
       "      <td>0.18910</td>\n",
       "      <td>0.09113</td>\n",
       "      <td>...</td>\n",
       "      <td>29.41</td>\n",
       "      <td>142.10</td>\n",
       "      <td>1359.0</td>\n",
       "      <td>0.1681</td>\n",
       "      <td>0.3913</td>\n",
       "      <td>0.55530</td>\n",
       "      <td>0.2121</td>\n",
       "      <td>0.3187</td>\n",
       "      <td>0.10190</td>\n",
       "      <td>NaN</td>\n",
       "    </tr>\n",
       "    <tr>\n",
       "      <th>89</th>\n",
       "      <td>861598</td>\n",
       "      <td>B</td>\n",
       "      <td>14.640</td>\n",
       "      <td>15.24</td>\n",
       "      <td>95.77</td>\n",
       "      <td>651.9</td>\n",
       "      <td>0.11320</td>\n",
       "      <td>0.13390</td>\n",
       "      <td>0.09966</td>\n",
       "      <td>0.07064</td>\n",
       "      <td>...</td>\n",
       "      <td>18.24</td>\n",
       "      <td>109.40</td>\n",
       "      <td>803.6</td>\n",
       "      <td>0.1277</td>\n",
       "      <td>0.3089</td>\n",
       "      <td>0.26040</td>\n",
       "      <td>0.1397</td>\n",
       "      <td>0.3151</td>\n",
       "      <td>0.08473</td>\n",
       "      <td>NaN</td>\n",
       "    </tr>\n",
       "    <tr>\n",
       "      <th>233</th>\n",
       "      <td>88206102</td>\n",
       "      <td>M</td>\n",
       "      <td>20.510</td>\n",
       "      <td>27.81</td>\n",
       "      <td>134.40</td>\n",
       "      <td>1319.0</td>\n",
       "      <td>0.09159</td>\n",
       "      <td>0.10740</td>\n",
       "      <td>0.15540</td>\n",
       "      <td>0.08340</td>\n",
       "      <td>...</td>\n",
       "      <td>37.38</td>\n",
       "      <td>162.70</td>\n",
       "      <td>1872.0</td>\n",
       "      <td>0.1223</td>\n",
       "      <td>0.2761</td>\n",
       "      <td>0.41460</td>\n",
       "      <td>0.1563</td>\n",
       "      <td>0.2437</td>\n",
       "      <td>0.08328</td>\n",
       "      <td>NaN</td>\n",
       "    </tr>\n",
       "    <tr>\n",
       "      <th>6</th>\n",
       "      <td>844359</td>\n",
       "      <td>M</td>\n",
       "      <td>18.250</td>\n",
       "      <td>19.98</td>\n",
       "      <td>119.60</td>\n",
       "      <td>1040.0</td>\n",
       "      <td>0.09463</td>\n",
       "      <td>0.10900</td>\n",
       "      <td>0.11270</td>\n",
       "      <td>0.07400</td>\n",
       "      <td>...</td>\n",
       "      <td>27.66</td>\n",
       "      <td>153.20</td>\n",
       "      <td>1606.0</td>\n",
       "      <td>0.1442</td>\n",
       "      <td>0.2576</td>\n",
       "      <td>0.37840</td>\n",
       "      <td>0.1932</td>\n",
       "      <td>0.3063</td>\n",
       "      <td>0.08368</td>\n",
       "      <td>NaN</td>\n",
       "    </tr>\n",
       "  </tbody>\n",
       "</table>\n",
       "<p>5 rows × 33 columns</p>\n",
       "</div>"
      ],
      "text/plain": [
       "           id diagnosis  radius_mean  texture_mean  perimeter_mean  area_mean  \\\n",
       "416    905978         B        9.405         21.70           59.60      271.2   \n",
       "392    903507         M       15.490         19.97          102.40      744.7   \n",
       "89     861598         B       14.640         15.24           95.77      651.9   \n",
       "233  88206102         M       20.510         27.81          134.40     1319.0   \n",
       "6      844359         M       18.250         19.98          119.60     1040.0   \n",
       "\n",
       "     smoothness_mean  compactness_mean  concavity_mean  concave points_mean  \\\n",
       "416          0.10440           0.06159         0.02047              0.01257   \n",
       "392          0.11600           0.15620         0.18910              0.09113   \n",
       "89           0.11320           0.13390         0.09966              0.07064   \n",
       "233          0.09159           0.10740         0.15540              0.08340   \n",
       "6            0.09463           0.10900         0.11270              0.07400   \n",
       "\n",
       "     ...  texture_worst  perimeter_worst  area_worst  smoothness_worst  \\\n",
       "416  ...          31.24            68.73       359.4            0.1526   \n",
       "392  ...          29.41           142.10      1359.0            0.1681   \n",
       "89   ...          18.24           109.40       803.6            0.1277   \n",
       "233  ...          37.38           162.70      1872.0            0.1223   \n",
       "6    ...          27.66           153.20      1606.0            0.1442   \n",
       "\n",
       "     compactness_worst  concavity_worst  concave points_worst  symmetry_worst  \\\n",
       "416             0.1193          0.06141                0.0377          0.2872   \n",
       "392             0.3913          0.55530                0.2121          0.3187   \n",
       "89              0.3089          0.26040                0.1397          0.3151   \n",
       "233             0.2761          0.41460                0.1563          0.2437   \n",
       "6               0.2576          0.37840                0.1932          0.3063   \n",
       "\n",
       "     fractal_dimension_worst  Unnamed: 32  \n",
       "416                  0.08304          NaN  \n",
       "392                  0.10190          NaN  \n",
       "89                   0.08473          NaN  \n",
       "233                  0.08328          NaN  \n",
       "6                    0.08368          NaN  \n",
       "\n",
       "[5 rows x 33 columns]"
      ]
     },
     "execution_count": 6,
     "metadata": {},
     "output_type": "execute_result"
    }
   ],
   "source": [
    "table.head()"
   ]
  },
  {
   "cell_type": "code",
   "execution_count": 7,
   "metadata": {
    "execution": {
     "iopub.execute_input": "2020-11-17T19:26:03.202188Z",
     "iopub.status.busy": "2020-11-17T19:26:03.201074Z",
     "iopub.status.idle": "2020-11-17T19:26:03.206101Z",
     "shell.execute_reply": "2020-11-17T19:26:03.205313Z"
    },
    "papermill": {
     "duration": 0.047699,
     "end_time": "2020-11-17T19:26:03.206227",
     "exception": false,
     "start_time": "2020-11-17T19:26:03.158528",
     "status": "completed"
    },
    "tags": []
   },
   "outputs": [],
   "source": [
    "table.drop('Unnamed: 32', axis=1, inplace=True)"
   ]
  },
  {
   "cell_type": "code",
   "execution_count": 8,
   "metadata": {
    "execution": {
     "iopub.execute_input": "2020-11-17T19:26:03.288092Z",
     "iopub.status.busy": "2020-11-17T19:26:03.286961Z",
     "iopub.status.idle": "2020-11-17T19:26:03.290545Z",
     "shell.execute_reply": "2020-11-17T19:26:03.289759Z"
    },
    "papermill": {
     "duration": 0.047492,
     "end_time": "2020-11-17T19:26:03.290676",
     "exception": false,
     "start_time": "2020-11-17T19:26:03.243184",
     "status": "completed"
    },
    "tags": []
   },
   "outputs": [],
   "source": [
    "table.drop('id', axis=1, inplace=True)"
   ]
  },
  {
   "cell_type": "code",
   "execution_count": 9,
   "metadata": {
    "execution": {
     "iopub.execute_input": "2020-11-17T19:26:03.377217Z",
     "iopub.status.busy": "2020-11-17T19:26:03.376371Z",
     "iopub.status.idle": "2020-11-17T19:26:03.556218Z",
     "shell.execute_reply": "2020-11-17T19:26:03.555563Z"
    },
    "papermill": {
     "duration": 0.228648,
     "end_time": "2020-11-17T19:26:03.556367",
     "exception": false,
     "start_time": "2020-11-17T19:26:03.327719",
     "status": "completed"
    },
    "tags": []
   },
   "outputs": [
    {
     "name": "stdout",
     "output_type": "stream",
     "text": [
      "Number of Benign:  357\n",
      "Number of Malignant :  212\n"
     ]
    },
    {
     "data": {
      "image/png": "[encoded data removed]",
      "text/plain": [
       "<Figure size 432x288 with 1 Axes>"
      ]
     },
     "metadata": {
      "needs_background": "light"
     },
     "output_type": "display_data"
    }
   ],
   "source": [
    "ax = sns.countplot(table['diagnosis'],label=\"Count\")\n",
    "B, M = table['diagnosis'].value_counts()\n",
    "print('Number of Benign: ',B)\n",
    "print('Number of Malignant : ',M)"
   ]
  },
  {
   "cell_type": "code",
   "execution_count": 10,
   "metadata": {
    "execution": {
     "iopub.execute_input": "2020-11-17T19:26:03.667760Z",
     "iopub.status.busy": "2020-11-17T19:26:03.666537Z",
     "iopub.status.idle": "2020-11-17T19:26:03.753837Z",
     "shell.execute_reply": "2020-11-17T19:26:03.753087Z"
    },
    "papermill": {
     "duration": 0.146239,
     "end_time": "2020-11-17T19:26:03.753978",
     "exception": false,
     "start_time": "2020-11-17T19:26:03.607739",
     "status": "completed"
    },
    "tags": []
   },
   "outputs": [],
   "source": [
    "from sklearn.preprocessing import  MinMaxScaler\n",
    "scl=MinMaxScaler()"
   ]
  },
  {
   "cell_type": "code",
   "execution_count": 11,
   "metadata": {
    "execution": {
     "iopub.execute_input": "2020-11-17T19:26:03.842223Z",
     "iopub.status.busy": "2020-11-17T19:26:03.841140Z",
     "iopub.status.idle": "2020-11-17T19:26:03.844155Z",
     "shell.execute_reply": "2020-11-17T19:26:03.844746Z"
    },
    "papermill": {
     "duration": 0.05118,
     "end_time": "2020-11-17T19:26:03.844904",
     "exception": false,
     "start_time": "2020-11-17T19:26:03.793724",
     "status": "completed"
    },
    "tags": []
   },
   "outputs": [],
   "source": [
    "table['diagnosis'].replace({'M':1, 'B':0}, inplace=True)"
   ]
  },
  {
   "cell_type": "code",
   "execution_count": 12,
   "metadata": {
    "execution": {
     "iopub.execute_input": "2020-11-17T19:26:03.927478Z",
     "iopub.status.busy": "2020-11-17T19:26:03.926718Z",
     "iopub.status.idle": "2020-11-17T19:26:03.930062Z",
     "shell.execute_reply": "2020-11-17T19:26:03.929416Z"
    },
    "papermill": {
     "duration": 0.047033,
     "end_time": "2020-11-17T19:26:03.930187",
     "exception": false,
     "start_time": "2020-11-17T19:26:03.883154",
     "status": "completed"
    },
    "tags": []
   },
   "outputs": [],
   "source": [
    "test_set = table.iloc[-20:, :]"
   ]
  },
  {
   "cell_type": "code",
   "execution_count": 13,
   "metadata": {
    "execution": {
     "iopub.execute_input": "2020-11-17T19:26:04.038462Z",
     "iopub.status.busy": "2020-11-17T19:26:04.037432Z",
     "iopub.status.idle": "2020-11-17T19:26:04.042468Z",
     "shell.execute_reply": "2020-11-17T19:26:04.041823Z"
    },
    "papermill": {
     "duration": 0.073554,
     "end_time": "2020-11-17T19:26:04.042599",
     "exception": false,
     "start_time": "2020-11-17T19:26:03.969045",
     "status": "completed"
    },
    "tags": []
   },
   "outputs": [
    {
     "data": {
      "text/html": [
       "<div>\n",
       "<style scoped>\n",
       "    .dataframe tbody tr th:only-of-type {\n",
       "        vertical-align: middle;\n",
       "    }\n",
       "\n",
       "    .dataframe tbody tr th {\n",
       "        vertical-align: top;\n",
       "    }\n",
       "\n",
       "    .dataframe thead th {\n",
       "        text-align: right;\n",
       "    }\n",
       "</style>\n",
       "<table border=\"1\" class=\"dataframe\">\n",
       "  <thead>\n",
       "    <tr style=\"text-align: right;\">\n",
       "      <th></th>\n",
       "      <th>diagnosis</th>\n",
       "      <th>radius_mean</th>\n",
       "      <th>texture_mean</th>\n",
       "      <th>perimeter_mean</th>\n",
       "      <th>area_mean</th>\n",
       "      <th>smoothness_mean</th>\n",
       "      <th>compactness_mean</th>\n",
       "      <th>concavity_mean</th>\n",
       "      <th>concave points_mean</th>\n",
       "      <th>symmetry_mean</th>\n",
       "      <th>...</th>\n",
       "      <th>radius_worst</th>\n",
       "      <th>texture_worst</th>\n",
       "      <th>perimeter_worst</th>\n",
       "      <th>area_worst</th>\n",
       "      <th>smoothness_worst</th>\n",
       "      <th>compactness_worst</th>\n",
       "      <th>concavity_worst</th>\n",
       "      <th>concave points_worst</th>\n",
       "      <th>symmetry_worst</th>\n",
       "      <th>fractal_dimension_worst</th>\n",
       "    </tr>\n",
       "  </thead>\n",
       "  <tbody>\n",
       "    <tr>\n",
       "      <th>314</th>\n",
       "      <td>0</td>\n",
       "      <td>8.597</td>\n",
       "      <td>18.60</td>\n",
       "      <td>54.09</td>\n",
       "      <td>221.2</td>\n",
       "      <td>0.10740</td>\n",
       "      <td>0.05847</td>\n",
       "      <td>0.00000</td>\n",
       "      <td>0.00000</td>\n",
       "      <td>0.2163</td>\n",
       "      <td>...</td>\n",
       "      <td>8.952</td>\n",
       "      <td>22.44</td>\n",
       "      <td>56.65</td>\n",
       "      <td>240.1</td>\n",
       "      <td>0.1347</td>\n",
       "      <td>0.07767</td>\n",
       "      <td>0.0000</td>\n",
       "      <td>0.0000</td>\n",
       "      <td>0.3142</td>\n",
       "      <td>0.08116</td>\n",
       "    </tr>\n",
       "    <tr>\n",
       "      <th>194</th>\n",
       "      <td>1</td>\n",
       "      <td>14.860</td>\n",
       "      <td>23.21</td>\n",
       "      <td>100.40</td>\n",
       "      <td>671.4</td>\n",
       "      <td>0.10440</td>\n",
       "      <td>0.19800</td>\n",
       "      <td>0.16970</td>\n",
       "      <td>0.08878</td>\n",
       "      <td>0.1737</td>\n",
       "      <td>...</td>\n",
       "      <td>16.080</td>\n",
       "      <td>27.78</td>\n",
       "      <td>118.60</td>\n",
       "      <td>784.7</td>\n",
       "      <td>0.1316</td>\n",
       "      <td>0.46480</td>\n",
       "      <td>0.4589</td>\n",
       "      <td>0.1727</td>\n",
       "      <td>0.3000</td>\n",
       "      <td>0.08701</td>\n",
       "    </tr>\n",
       "    <tr>\n",
       "      <th>461</th>\n",
       "      <td>1</td>\n",
       "      <td>27.420</td>\n",
       "      <td>26.27</td>\n",
       "      <td>186.90</td>\n",
       "      <td>2501.0</td>\n",
       "      <td>0.10840</td>\n",
       "      <td>0.19880</td>\n",
       "      <td>0.36350</td>\n",
       "      <td>0.16890</td>\n",
       "      <td>0.2061</td>\n",
       "      <td>...</td>\n",
       "      <td>36.040</td>\n",
       "      <td>31.37</td>\n",
       "      <td>251.20</td>\n",
       "      <td>4254.0</td>\n",
       "      <td>0.1357</td>\n",
       "      <td>0.42560</td>\n",
       "      <td>0.6833</td>\n",
       "      <td>0.2625</td>\n",
       "      <td>0.2641</td>\n",
       "      <td>0.07427</td>\n",
       "    </tr>\n",
       "    <tr>\n",
       "      <th>567</th>\n",
       "      <td>1</td>\n",
       "      <td>20.600</td>\n",
       "      <td>29.33</td>\n",
       "      <td>140.10</td>\n",
       "      <td>1265.0</td>\n",
       "      <td>0.11780</td>\n",
       "      <td>0.27700</td>\n",
       "      <td>0.35140</td>\n",
       "      <td>0.15200</td>\n",
       "      <td>0.2397</td>\n",
       "      <td>...</td>\n",
       "      <td>25.740</td>\n",
       "      <td>39.42</td>\n",
       "      <td>184.60</td>\n",
       "      <td>1821.0</td>\n",
       "      <td>0.1650</td>\n",
       "      <td>0.86810</td>\n",
       "      <td>0.9387</td>\n",
       "      <td>0.2650</td>\n",
       "      <td>0.4087</td>\n",
       "      <td>0.12400</td>\n",
       "    </tr>\n",
       "    <tr>\n",
       "      <th>141</th>\n",
       "      <td>1</td>\n",
       "      <td>16.110</td>\n",
       "      <td>18.05</td>\n",
       "      <td>105.10</td>\n",
       "      <td>813.0</td>\n",
       "      <td>0.09721</td>\n",
       "      <td>0.11370</td>\n",
       "      <td>0.09447</td>\n",
       "      <td>0.05943</td>\n",
       "      <td>0.1861</td>\n",
       "      <td>...</td>\n",
       "      <td>19.920</td>\n",
       "      <td>25.27</td>\n",
       "      <td>129.00</td>\n",
       "      <td>1233.0</td>\n",
       "      <td>0.1314</td>\n",
       "      <td>0.22360</td>\n",
       "      <td>0.2802</td>\n",
       "      <td>0.1216</td>\n",
       "      <td>0.2792</td>\n",
       "      <td>0.08158</td>\n",
       "    </tr>\n",
       "  </tbody>\n",
       "</table>\n",
       "<p>5 rows × 31 columns</p>\n",
       "</div>"
      ],
      "text/plain": [
       "     diagnosis  radius_mean  texture_mean  perimeter_mean  area_mean  \\\n",
       "314          0        8.597         18.60           54.09      221.2   \n",
       "194          1       14.860         23.21          100.40      671.4   \n",
       "461          1       27.420         26.27          186.90     2501.0   \n",
       "567          1       20.600         29.33          140.10     1265.0   \n",
       "141          1       16.110         18.05          105.10      813.0   \n",
       "\n",
       "     smoothness_mean  compactness_mean  concavity_mean  concave points_mean  \\\n",
       "314          0.10740           0.05847         0.00000              0.00000   \n",
       "194          0.10440           0.19800         0.16970              0.08878   \n",
       "461          0.10840           0.19880         0.36350              0.16890   \n",
       "567          0.11780           0.27700         0.35140              0.15200   \n",
       "141          0.09721           0.11370         0.09447              0.05943   \n",
       "\n",
       "     symmetry_mean  ...  radius_worst  texture_worst  perimeter_worst  \\\n",
       "314         0.2163  ...         8.952          22.44            56.65   \n",
       "194         0.1737  ...        16.080          27.78           118.60   \n",
       "461         0.2061  ...        36.040          31.37           251.20   \n",
       "567         0.2397  ...        25.740          39.42           184.60   \n",
       "141         0.1861  ...        19.920          25.27           129.00   \n",
       "\n",
       "     area_worst  smoothness_worst  compactness_worst  concavity_worst  \\\n",
       "314       240.1            0.1347            0.07767           0.0000   \n",
       "194       784.7            0.1316            0.46480           0.4589   \n",
       "461      4254.0            0.1357            0.42560           0.6833   \n",
       "567      1821.0            0.1650            0.86810           0.9387   \n",
       "141      1233.0            0.1314            0.22360           0.2802   \n",
       "\n",
       "     concave points_worst  symmetry_worst  fractal_dimension_worst  \n",
       "314                0.0000          0.3142                  0.08116  \n",
       "194                0.1727          0.3000                  0.08701  \n",
       "461                0.2625          0.2641                  0.07427  \n",
       "567                0.2650          0.4087                  0.12400  \n",
       "141                0.1216          0.2792                  0.08158  \n",
       "\n",
       "[5 rows x 31 columns]"
      ]
     },
     "execution_count": 13,
     "metadata": {},
     "output_type": "execute_result"
    }
   ],
   "source": [
    "test_set.head()"
   ]
  },
  {
   "cell_type": "code",
   "execution_count": 14,
   "metadata": {
    "execution": {
     "iopub.execute_input": "2020-11-17T19:26:04.129231Z",
     "iopub.status.busy": "2020-11-17T19:26:04.128091Z",
     "iopub.status.idle": "2020-11-17T19:26:04.131993Z",
     "shell.execute_reply": "2020-11-17T19:26:04.131210Z"
    },
    "papermill": {
     "duration": 0.05007,
     "end_time": "2020-11-17T19:26:04.132120",
     "exception": false,
     "start_time": "2020-11-17T19:26:04.082050",
     "status": "completed"
    },
    "tags": []
   },
   "outputs": [],
   "source": [
    "drop_index = test_set.index"
   ]
  },
  {
   "cell_type": "code",
   "execution_count": 15,
   "metadata": {
    "execution": {
     "iopub.execute_input": "2020-11-17T19:26:04.220452Z",
     "iopub.status.busy": "2020-11-17T19:26:04.219517Z",
     "iopub.status.idle": "2020-11-17T19:26:04.223639Z",
     "shell.execute_reply": "2020-11-17T19:26:04.224231Z"
    },
    "papermill": {
     "duration": 0.051163,
     "end_time": "2020-11-17T19:26:04.224416",
     "exception": false,
     "start_time": "2020-11-17T19:26:04.173253",
     "status": "completed"
    },
    "tags": []
   },
   "outputs": [
    {
     "data": {
      "text/plain": [
       "Int64Index([314, 194, 461, 567, 141, 242, 239, 197, 509,  25, 505, 127, 482,\n",
       "            428, 537, 354, 496, 238, 200, 344],\n",
       "           dtype='int64')"
      ]
     },
     "execution_count": 15,
     "metadata": {},
     "output_type": "execute_result"
    }
   ],
   "source": [
    "drop_index"
   ]
  },
  {
   "cell_type": "code",
   "execution_count": 16,
   "metadata": {
    "execution": {
     "iopub.execute_input": "2020-11-17T19:26:04.314028Z",
     "iopub.status.busy": "2020-11-17T19:26:04.313230Z",
     "iopub.status.idle": "2020-11-17T19:26:04.316860Z",
     "shell.execute_reply": "2020-11-17T19:26:04.316009Z"
    },
    "papermill": {
     "duration": 0.051163,
     "end_time": "2020-11-17T19:26:04.316996",
     "exception": false,
     "start_time": "2020-11-17T19:26:04.265833",
     "status": "completed"
    },
    "tags": []
   },
   "outputs": [],
   "source": [
    "table.drop(drop_index, inplace=True)"
   ]
  },
  {
   "cell_type": "code",
   "execution_count": 17,
   "metadata": {
    "execution": {
     "iopub.execute_input": "2020-11-17T19:26:04.408460Z",
     "iopub.status.busy": "2020-11-17T19:26:04.407298Z",
     "iopub.status.idle": "2020-11-17T19:26:04.412533Z",
     "shell.execute_reply": "2020-11-17T19:26:04.411786Z"
    },
    "papermill": {
     "duration": 0.053399,
     "end_time": "2020-11-17T19:26:04.412714",
     "exception": false,
     "start_time": "2020-11-17T19:26:04.359315",
     "status": "completed"
    },
    "tags": []
   },
   "outputs": [
    {
     "data": {
      "text/plain": [
       "(549, 31)"
      ]
     },
     "execution_count": 17,
     "metadata": {},
     "output_type": "execute_result"
    }
   ],
   "source": [
    "table.shape"
   ]
  },
  {
   "cell_type": "code",
   "execution_count": 18,
   "metadata": {
    "execution": {
     "iopub.execute_input": "2020-11-17T19:26:04.509401Z",
     "iopub.status.busy": "2020-11-17T19:26:04.508443Z",
     "iopub.status.idle": "2020-11-17T19:26:04.511057Z",
     "shell.execute_reply": "2020-11-17T19:26:04.511597Z"
    },
    "papermill": {
     "duration": 0.049962,
     "end_time": "2020-11-17T19:26:04.511760",
     "exception": false,
     "start_time": "2020-11-17T19:26:04.461798",
     "status": "completed"
    },
    "tags": []
   },
   "outputs": [],
   "source": [
    "x = table.iloc[:,1:]"
   ]
  },
  {
   "cell_type": "code",
   "execution_count": 19,
   "metadata": {
    "execution": {
     "iopub.execute_input": "2020-11-17T19:26:04.604910Z",
     "iopub.status.busy": "2020-11-17T19:26:04.603884Z",
     "iopub.status.idle": "2020-11-17T19:26:04.606656Z",
     "shell.execute_reply": "2020-11-17T19:26:04.607192Z"
    },
    "papermill": {
     "duration": 0.052741,
     "end_time": "2020-11-17T19:26:04.607379",
     "exception": false,
     "start_time": "2020-11-17T19:26:04.554638",
     "status": "completed"
    },
    "tags": []
   },
   "outputs": [],
   "source": [
    "y = table.iloc[:,:1]"
   ]
  },
  {
   "cell_type": "code",
   "execution_count": 20,
   "metadata": {
    "execution": {
     "iopub.execute_input": "2020-11-17T19:26:04.695887Z",
     "iopub.status.busy": "2020-11-17T19:26:04.695013Z",
     "iopub.status.idle": "2020-11-17T19:26:04.759081Z",
     "shell.execute_reply": "2020-11-17T19:26:04.758208Z"
    },
    "papermill": {
     "duration": 0.110242,
     "end_time": "2020-11-17T19:26:04.759229",
     "exception": false,
     "start_time": "2020-11-17T19:26:04.648987",
     "status": "completed"
    },
    "tags": []
   },
   "outputs": [],
   "source": [
    "from sklearn.model_selection import train_test_split"
   ]
  },
  {
   "cell_type": "code",
   "execution_count": 21,
   "metadata": {
    "execution": {
     "iopub.execute_input": "2020-11-17T19:26:04.852229Z",
     "iopub.status.busy": "2020-11-17T19:26:04.851415Z",
     "iopub.status.idle": "2020-11-17T19:26:04.855032Z",
     "shell.execute_reply": "2020-11-17T19:26:04.854248Z"
    },
    "papermill": {
     "duration": 0.052979,
     "end_time": "2020-11-17T19:26:04.855159",
     "exception": false,
     "start_time": "2020-11-17T19:26:04.802180",
     "status": "completed"
    },
    "tags": []
   },
   "outputs": [],
   "source": [
    "x_train, x_test, y_train, y_test = train_test_split(x,y, test_size=0.2)"
   ]
  },
  {
   "cell_type": "code",
   "execution_count": 22,
   "metadata": {
    "execution": {
     "iopub.execute_input": "2020-11-17T19:26:04.955368Z",
     "iopub.status.busy": "2020-11-17T19:26:04.945807Z",
     "iopub.status.idle": "2020-11-17T19:26:04.958291Z",
     "shell.execute_reply": "2020-11-17T19:26:04.958853Z"
    },
    "papermill": {
     "duration": 0.062244,
     "end_time": "2020-11-17T19:26:04.959022",
     "exception": false,
     "start_time": "2020-11-17T19:26:04.896778",
     "status": "completed"
    },
    "tags": []
   },
   "outputs": [],
   "source": [
    "x_train=scl.fit_transform(x_train)\n",
    "x_test=scl.fit_transform(x_test)"
   ]
  },
  {
   "cell_type": "code",
   "execution_count": 23,
   "metadata": {
    "execution": {
     "iopub.execute_input": "2020-11-17T19:26:05.050164Z",
     "iopub.status.busy": "2020-11-17T19:26:05.049006Z",
     "iopub.status.idle": "2020-11-17T19:26:05.053084Z",
     "shell.execute_reply": "2020-11-17T19:26:05.053949Z"
    },
    "papermill": {
     "duration": 0.052794,
     "end_time": "2020-11-17T19:26:05.054152",
     "exception": false,
     "start_time": "2020-11-17T19:26:05.001358",
     "status": "completed"
    },
    "tags": []
   },
   "outputs": [
    {
     "name": "stdout",
     "output_type": "stream",
     "text": [
      "(439, 30) (439, 1) (110, 30) (110, 1)\n"
     ]
    }
   ],
   "source": [
    "print(x_train.shape, y_train.shape, x_test.shape, y_test.shape)"
   ]
  },
  {
   "cell_type": "code",
   "execution_count": 24,
   "metadata": {
    "execution": {
     "iopub.execute_input": "2020-11-17T19:26:05.146379Z",
     "iopub.status.busy": "2020-11-17T19:26:05.145555Z",
     "iopub.status.idle": "2020-11-17T19:26:05.600717Z",
     "shell.execute_reply": "2020-11-17T19:26:05.599925Z"
    },
    "papermill": {
     "duration": 0.502847,
     "end_time": "2020-11-17T19:26:05.600844",
     "exception": false,
     "start_time": "2020-11-17T19:26:05.097997",
     "status": "completed"
    },
    "tags": []
   },
   "outputs": [],
   "source": [
    "from imblearn.over_sampling import SMOTE"
   ]
  },
  {
   "cell_type": "code",
   "execution_count": 25,
   "metadata": {
    "execution": {
     "iopub.execute_input": "2020-11-17T19:26:05.692152Z",
     "iopub.status.busy": "2020-11-17T19:26:05.691394Z",
     "iopub.status.idle": "2020-11-17T19:26:05.694811Z",
     "shell.execute_reply": "2020-11-17T19:26:05.694203Z"
    },
    "papermill": {
     "duration": 0.051059,
     "end_time": "2020-11-17T19:26:05.694946",
     "exception": false,
     "start_time": "2020-11-17T19:26:05.643887",
     "status": "completed"
    },
    "tags": []
   },
   "outputs": [],
   "source": [
    "sm = SMOTE()"
   ]
  },
  {
   "cell_type": "code",
   "execution_count": 26,
   "metadata": {
    "execution": {
     "iopub.execute_input": "2020-11-17T19:26:05.787934Z",
     "iopub.status.busy": "2020-11-17T19:26:05.787133Z",
     "iopub.status.idle": "2020-11-17T19:26:05.801421Z",
     "shell.execute_reply": "2020-11-17T19:26:05.800753Z"
    },
    "papermill": {
     "duration": 0.063698,
     "end_time": "2020-11-17T19:26:05.801567",
     "exception": false,
     "start_time": "2020-11-17T19:26:05.737869",
     "status": "completed"
    },
    "tags": []
   },
   "outputs": [],
   "source": [
    "x_train_f, y_train_f = sm.fit_sample(x_train, y_train)\n",
    "x_test_f, y_test_f = sm.fit_sample(x_test, y_test)"
   ]
  },
  {
   "cell_type": "code",
   "execution_count": 27,
   "metadata": {
    "execution": {
     "iopub.execute_input": "2020-11-17T19:26:05.894488Z",
     "iopub.status.busy": "2020-11-17T19:26:05.893497Z",
     "iopub.status.idle": "2020-11-17T19:26:05.896975Z",
     "shell.execute_reply": "2020-11-17T19:26:05.897759Z"
    },
    "papermill": {
     "duration": 0.053124,
     "end_time": "2020-11-17T19:26:05.897956",
     "exception": false,
     "start_time": "2020-11-17T19:26:05.844832",
     "status": "completed"
    },
    "tags": []
   },
   "outputs": [
    {
     "name": "stdout",
     "output_type": "stream",
     "text": [
      "(560, 30) (560, 1) (132, 30) (132, 1)\n"
     ]
    }
   ],
   "source": [
    "print(x_train_f.shape, y_train_f.shape, x_test_f.shape, y_test_f.shape)"
   ]
  },
  {
   "cell_type": "code",
   "execution_count": 28,
   "metadata": {
    "execution": {
     "iopub.execute_input": "2020-11-17T19:26:05.992583Z",
     "iopub.status.busy": "2020-11-17T19:26:05.991618Z",
     "iopub.status.idle": "2020-11-17T19:26:12.018950Z",
     "shell.execute_reply": "2020-11-17T19:26:12.019559Z"
    },
    "papermill": {
     "duration": 6.077391,
     "end_time": "2020-11-17T19:26:12.019739",
     "exception": false,
     "start_time": "2020-11-17T19:26:05.942348",
     "status": "completed"
    },
    "tags": []
   },
   "outputs": [],
   "source": [
    "import tensorflow as tf\n",
    "import tensorflow.keras.layers as L\n",
    "from tensorflow.keras.optimizers import Adam, Nadam, SGD, Adamax\n",
    "from tensorflow.keras.models import Sequential"
   ]
  },
  {
   "cell_type": "code",
   "execution_count": 29,
   "metadata": {
    "execution": {
     "iopub.execute_input": "2020-11-17T19:26:12.116908Z",
     "iopub.status.busy": "2020-11-17T19:26:12.116034Z",
     "iopub.status.idle": "2020-11-17T19:26:12.127262Z",
     "shell.execute_reply": "2020-11-17T19:26:12.126630Z"
    },
    "papermill": {
     "duration": 0.062988,
     "end_time": "2020-11-17T19:26:12.127433",
     "exception": false,
     "start_time": "2020-11-17T19:26:12.064445",
     "status": "completed"
    },
    "tags": []
   },
   "outputs": [],
   "source": [
    "act = ['relu', 'swish']\n",
    "lr = 0.001\n",
    "opt = [Adam(learning_rate=lr),SGD(learning_rate=lr),Nadam(learning_rate=lr), Adamax(learning_rate=lr)]\n",
    "epoch = 200\n",
    "optim = opt[3]\n",
    "activ=act[1]"
   ]
  },
  {
   "cell_type": "code",
   "execution_count": 30,
   "metadata": {
    "execution": {
     "iopub.execute_input": "2020-11-17T19:26:12.228036Z",
     "iopub.status.busy": "2020-11-17T19:26:12.227068Z",
     "iopub.status.idle": "2020-11-17T19:26:12.230161Z",
     "shell.execute_reply": "2020-11-17T19:26:12.229414Z"
    },
    "papermill": {
     "duration": 0.058983,
     "end_time": "2020-11-17T19:26:12.230286",
     "exception": false,
     "start_time": "2020-11-17T19:26:12.171303",
     "status": "completed"
    },
    "tags": []
   },
   "outputs": [],
   "source": [
    "def the_model():\n",
    "    model = Sequential([\n",
    "        L.Dense(x_train.shape[1], input_shape= (x_train.shape[1],)),\n",
    "        L.BatchNormalization(),\n",
    "        L.Dropout(0.3),\n",
    "        L.Dense(50, activation=activ),\n",
    "        L.BatchNormalization(),\n",
    "        L.Dropout(0.3),\n",
    "        L.Dense(50, activation=activ),\n",
    "        L.BatchNormalization(),\n",
    "        L.Dropout(0.2),\n",
    "        L.Dense(20, activation=activ),\n",
    "        L.BatchNormalization(),\n",
    "        L.Dropout(0.2),\n",
    "        L.Dense(1, activation='sigmoid')\n",
    "    ])\n",
    "    model.compile(optimizer= optim, loss='binary_crossentropy',metrics='accuracy')\n",
    "    return model"
   ]
  },
  {
   "cell_type": "code",
   "execution_count": 31,
   "metadata": {
    "execution": {
     "iopub.execute_input": "2020-11-17T19:26:12.325820Z",
     "iopub.status.busy": "2020-11-17T19:26:12.325016Z",
     "iopub.status.idle": "2020-11-17T19:26:26.619988Z",
     "shell.execute_reply": "2020-11-17T19:26:26.620617Z"
    },
    "papermill": {
     "duration": 14.345958,
     "end_time": "2020-11-17T19:26:26.620801",
     "exception": false,
     "start_time": "2020-11-17T19:26:12.274843",
     "status": "completed"
    },
    "tags": []
   },
   "outputs": [
    {
     "name": "stdout",
     "output_type": "stream",
     "text": [
      "Epoch 1/200\n",
      "14/14 [==============================] - 0s 24ms/step - loss: 0.7335 - accuracy: 0.6287 - val_loss: 0.6559 - val_accuracy: 0.9091\n",
      "Epoch 2/200\n",
      "14/14 [==============================] - 0s 4ms/step - loss: 0.5664 - accuracy: 0.7039 - val_loss: 0.6245 - val_accuracy: 0.8727\n",
      "Epoch 3/200\n",
      "14/14 [==============================] - 0s 4ms/step - loss: 0.4642 - accuracy: 0.8109 - val_loss: 0.5961 - val_accuracy: 0.8545\n",
      "Epoch 4/200\n",
      "14/14 [==============================] - 0s 4ms/step - loss: 0.4208 - accuracy: 0.8155 - val_loss: 0.5695 - val_accuracy: 0.8182\n",
      "Epoch 5/200\n",
      "14/14 [==============================] - 0s 4ms/step - loss: 0.3762 - accuracy: 0.8610 - val_loss: 0.5431 - val_accuracy: 0.8273\n",
      "Epoch 6/200\n",
      "14/14 [==============================] - 0s 4ms/step - loss: 0.3480 - accuracy: 0.8724 - val_loss: 0.5153 - val_accuracy: 0.8727\n",
      "Epoch 7/200\n",
      "14/14 [==============================] - 0s 4ms/step - loss: 0.3515 - accuracy: 0.8656 - val_loss: 0.4847 - val_accuracy: 0.8727\n",
      "Epoch 8/200\n",
      "14/14 [==============================] - 0s 4ms/step - loss: 0.3193 - accuracy: 0.8702 - val_loss: 0.4550 - val_accuracy: 0.8818\n",
      "Epoch 9/200\n",
      "14/14 [==============================] - 0s 4ms/step - loss: 0.2936 - accuracy: 0.8679 - val_loss: 0.4245 - val_accuracy: 0.8909\n",
      "Epoch 10/200\n",
      "14/14 [==============================] - 0s 4ms/step - loss: 0.3109 - accuracy: 0.8679 - val_loss: 0.3948 - val_accuracy: 0.9000\n",
      "Epoch 11/200\n",
      "14/14 [==============================] - 0s 4ms/step - loss: 0.2770 - accuracy: 0.8998 - val_loss: 0.3668 - val_accuracy: 0.9091\n",
      "Epoch 12/200\n",
      "14/14 [==============================] - 0s 4ms/step - loss: 0.2547 - accuracy: 0.9112 - val_loss: 0.3371 - val_accuracy: 0.9273\n",
      "Epoch 13/200\n",
      "14/14 [==============================] - 0s 4ms/step - loss: 0.2558 - accuracy: 0.8998 - val_loss: 0.3113 - val_accuracy: 0.9636\n",
      "Epoch 14/200\n",
      "14/14 [==============================] - 0s 4ms/step - loss: 0.2421 - accuracy: 0.9203 - val_loss: 0.2864 - val_accuracy: 0.9636\n",
      "Epoch 15/200\n",
      "14/14 [==============================] - 0s 4ms/step - loss: 0.2441 - accuracy: 0.9226 - val_loss: 0.2628 - val_accuracy: 0.9727\n",
      "Epoch 16/200\n",
      "14/14 [==============================] - 0s 4ms/step - loss: 0.2207 - accuracy: 0.9408 - val_loss: 0.2397 - val_accuracy: 0.9818\n",
      "Epoch 17/200\n",
      "14/14 [==============================] - 0s 4ms/step - loss: 0.2308 - accuracy: 0.9248 - val_loss: 0.2214 - val_accuracy: 0.9909\n",
      "Epoch 18/200\n",
      "14/14 [==============================] - 0s 4ms/step - loss: 0.2151 - accuracy: 0.9157 - val_loss: 0.2063 - val_accuracy: 0.9909\n",
      "Epoch 19/200\n",
      "14/14 [==============================] - 0s 4ms/step - loss: 0.2042 - accuracy: 0.9248 - val_loss: 0.1914 - val_accuracy: 0.9909\n",
      "Epoch 20/200\n",
      "14/14 [==============================] - 0s 4ms/step - loss: 0.1823 - accuracy: 0.9271 - val_loss: 0.1776 - val_accuracy: 0.9909\n",
      "Epoch 21/200\n",
      "14/14 [==============================] - 0s 4ms/step - loss: 0.2113 - accuracy: 0.9203 - val_loss: 0.1646 - val_accuracy: 0.9909\n",
      "Epoch 22/200\n",
      "14/14 [==============================] - 0s 4ms/step - loss: 0.2133 - accuracy: 0.9362 - val_loss: 0.1537 - val_accuracy: 0.9818\n",
      "Epoch 23/200\n",
      "14/14 [==============================] - 0s 4ms/step - loss: 0.1998 - accuracy: 0.9317 - val_loss: 0.1432 - val_accuracy: 0.9818\n",
      "Epoch 24/200\n",
      "14/14 [==============================] - 0s 4ms/step - loss: 0.2093 - accuracy: 0.9385 - val_loss: 0.1336 - val_accuracy: 0.9818\n",
      "Epoch 25/200\n",
      "14/14 [==============================] - 0s 4ms/step - loss: 0.1997 - accuracy: 0.9203 - val_loss: 0.1267 - val_accuracy: 0.9818\n",
      "Epoch 26/200\n",
      "14/14 [==============================] - 0s 4ms/step - loss: 0.1883 - accuracy: 0.9248 - val_loss: 0.1196 - val_accuracy: 0.9818\n",
      "Epoch 27/200\n",
      "14/14 [==============================] - 0s 4ms/step - loss: 0.1825 - accuracy: 0.9362 - val_loss: 0.1136 - val_accuracy: 0.9818\n",
      "Epoch 28/200\n",
      "14/14 [==============================] - 0s 4ms/step - loss: 0.2124 - accuracy: 0.9134 - val_loss: 0.1066 - val_accuracy: 0.9909\n",
      "Epoch 29/200\n",
      "14/14 [==============================] - 0s 4ms/step - loss: 0.1755 - accuracy: 0.9408 - val_loss: 0.1028 - val_accuracy: 0.9909\n",
      "Epoch 30/200\n",
      "14/14 [==============================] - 0s 4ms/step - loss: 0.1866 - accuracy: 0.9248 - val_loss: 0.0979 - val_accuracy: 0.9909\n",
      "Epoch 31/200\n",
      "14/14 [==============================] - 0s 4ms/step - loss: 0.2057 - accuracy: 0.9226 - val_loss: 0.0942 - val_accuracy: 0.9909\n",
      "Epoch 32/200\n",
      "14/14 [==============================] - 0s 4ms/step - loss: 0.1739 - accuracy: 0.9431 - val_loss: 0.0899 - val_accuracy: 0.9909\n",
      "Epoch 33/200\n",
      "14/14 [==============================] - 0s 4ms/step - loss: 0.1976 - accuracy: 0.9248 - val_loss: 0.0878 - val_accuracy: 0.9909\n",
      "Epoch 34/200\n",
      "14/14 [==============================] - 0s 4ms/step - loss: 0.1678 - accuracy: 0.9476 - val_loss: 0.0868 - val_accuracy: 0.9909\n",
      "Epoch 35/200\n",
      "14/14 [==============================] - 0s 4ms/step - loss: 0.1596 - accuracy: 0.9408 - val_loss: 0.0851 - val_accuracy: 0.9909\n",
      "Epoch 36/200\n",
      "14/14 [==============================] - 0s 4ms/step - loss: 0.1932 - accuracy: 0.9317 - val_loss: 0.0836 - val_accuracy: 0.9818\n",
      "Epoch 37/200\n",
      "14/14 [==============================] - 0s 4ms/step - loss: 0.2117 - accuracy: 0.9226 - val_loss: 0.0812 - val_accuracy: 0.9818\n",
      "Epoch 38/200\n",
      "14/14 [==============================] - 0s 4ms/step - loss: 0.2056 - accuracy: 0.9203 - val_loss: 0.0773 - val_accuracy: 0.9818\n",
      "Epoch 39/200\n",
      "14/14 [==============================] - 0s 4ms/step - loss: 0.1610 - accuracy: 0.9271 - val_loss: 0.0738 - val_accuracy: 0.9909\n",
      "Epoch 40/200\n",
      "14/14 [==============================] - 0s 4ms/step - loss: 0.1437 - accuracy: 0.9499 - val_loss: 0.0750 - val_accuracy: 0.9818\n",
      "Epoch 41/200\n",
      "14/14 [==============================] - 0s 4ms/step - loss: 0.1676 - accuracy: 0.9294 - val_loss: 0.0756 - val_accuracy: 0.9818\n",
      "Epoch 42/200\n",
      "14/14 [==============================] - 0s 4ms/step - loss: 0.1932 - accuracy: 0.9226 - val_loss: 0.0740 - val_accuracy: 0.9818\n",
      "Epoch 43/200\n",
      "14/14 [==============================] - 0s 4ms/step - loss: 0.1770 - accuracy: 0.9294 - val_loss: 0.0717 - val_accuracy: 0.9818\n",
      "Epoch 44/200\n",
      "14/14 [==============================] - 0s 4ms/step - loss: 0.1577 - accuracy: 0.9499 - val_loss: 0.0714 - val_accuracy: 0.9818\n",
      "Epoch 45/200\n",
      "14/14 [==============================] - 0s 4ms/step - loss: 0.1699 - accuracy: 0.9317 - val_loss: 0.0710 - val_accuracy: 0.9818\n",
      "Epoch 46/200\n",
      "14/14 [==============================] - 0s 4ms/step - loss: 0.1435 - accuracy: 0.9453 - val_loss: 0.0698 - val_accuracy: 0.9818\n",
      "Epoch 47/200\n",
      "14/14 [==============================] - 0s 5ms/step - loss: 0.1819 - accuracy: 0.9271 - val_loss: 0.0689 - val_accuracy: 0.9818\n",
      "Epoch 48/200\n",
      "14/14 [==============================] - 0s 4ms/step - loss: 0.1675 - accuracy: 0.9339 - val_loss: 0.0681 - val_accuracy: 0.9818\n",
      "Epoch 49/200\n",
      "14/14 [==============================] - 0s 4ms/step - loss: 0.1893 - accuracy: 0.9271 - val_loss: 0.0654 - val_accuracy: 0.9818\n",
      "Epoch 50/200\n",
      "14/14 [==============================] - 0s 4ms/step - loss: 0.1630 - accuracy: 0.9339 - val_loss: 0.0662 - val_accuracy: 0.9818\n",
      "Epoch 51/200\n",
      "14/14 [==============================] - 0s 4ms/step - loss: 0.1611 - accuracy: 0.9476 - val_loss: 0.0647 - val_accuracy: 0.9818\n",
      "Epoch 52/200\n",
      "14/14 [==============================] - 0s 4ms/step - loss: 0.1959 - accuracy: 0.9271 - val_loss: 0.0607 - val_accuracy: 0.9909\n",
      "Epoch 53/200\n",
      "14/14 [==============================] - 0s 4ms/step - loss: 0.1446 - accuracy: 0.9453 - val_loss: 0.0599 - val_accuracy: 0.9909\n",
      "Epoch 54/200\n",
      "14/14 [==============================] - 0s 4ms/step - loss: 0.1442 - accuracy: 0.9544 - val_loss: 0.0590 - val_accuracy: 0.9909\n",
      "Epoch 55/200\n",
      "14/14 [==============================] - 0s 4ms/step - loss: 0.1519 - accuracy: 0.9385 - val_loss: 0.0596 - val_accuracy: 0.9909\n",
      "Epoch 56/200\n",
      "14/14 [==============================] - 0s 4ms/step - loss: 0.1365 - accuracy: 0.9476 - val_loss: 0.0614 - val_accuracy: 0.9818\n",
      "Epoch 57/200\n",
      "14/14 [==============================] - 0s 4ms/step - loss: 0.1523 - accuracy: 0.9385 - val_loss: 0.0614 - val_accuracy: 0.9818\n",
      "Epoch 58/200\n",
      "14/14 [==============================] - 0s 4ms/step - loss: 0.1521 - accuracy: 0.9453 - val_loss: 0.0622 - val_accuracy: 0.9818\n",
      "Epoch 59/200\n",
      "14/14 [==============================] - 0s 4ms/step - loss: 0.1285 - accuracy: 0.9590 - val_loss: 0.0642 - val_accuracy: 0.9818\n",
      "Epoch 60/200\n",
      "14/14 [==============================] - 0s 4ms/step - loss: 0.1536 - accuracy: 0.9385 - val_loss: 0.0613 - val_accuracy: 0.9818\n",
      "Epoch 61/200\n",
      "14/14 [==============================] - 0s 4ms/step - loss: 0.1377 - accuracy: 0.9476 - val_loss: 0.0596 - val_accuracy: 0.9818\n",
      "Epoch 62/200\n",
      "14/14 [==============================] - 0s 4ms/step - loss: 0.1542 - accuracy: 0.9339 - val_loss: 0.0599 - val_accuracy: 0.9818\n",
      "Epoch 63/200\n",
      "14/14 [==============================] - 0s 4ms/step - loss: 0.1686 - accuracy: 0.9317 - val_loss: 0.0639 - val_accuracy: 0.9818\n",
      "Epoch 64/200\n",
      "14/14 [==============================] - 0s 4ms/step - loss: 0.1386 - accuracy: 0.9408 - val_loss: 0.0640 - val_accuracy: 0.9818\n",
      "Epoch 65/200\n",
      "14/14 [==============================] - 0s 4ms/step - loss: 0.1645 - accuracy: 0.9317 - val_loss: 0.0642 - val_accuracy: 0.9818\n",
      "Epoch 66/200\n",
      "14/14 [==============================] - 0s 4ms/step - loss: 0.1494 - accuracy: 0.9431 - val_loss: 0.0629 - val_accuracy: 0.9818\n",
      "Epoch 67/200\n",
      "14/14 [==============================] - 0s 4ms/step - loss: 0.1241 - accuracy: 0.9544 - val_loss: 0.0624 - val_accuracy: 0.9818\n",
      "Epoch 68/200\n",
      "14/14 [==============================] - 0s 4ms/step - loss: 0.1375 - accuracy: 0.9453 - val_loss: 0.0607 - val_accuracy: 0.9818\n",
      "Epoch 69/200\n",
      "14/14 [==============================] - 0s 4ms/step - loss: 0.1551 - accuracy: 0.9522 - val_loss: 0.0602 - val_accuracy: 0.9818\n",
      "Epoch 70/200\n",
      "14/14 [==============================] - 0s 3ms/step - loss: 0.1287 - accuracy: 0.9499 - val_loss: 0.0608 - val_accuracy: 0.9818\n",
      "Epoch 71/200\n",
      "14/14 [==============================] - 0s 4ms/step - loss: 0.1365 - accuracy: 0.9499 - val_loss: 0.0572 - val_accuracy: 0.9909\n",
      "Epoch 72/200\n",
      "14/14 [==============================] - 0s 4ms/step - loss: 0.1201 - accuracy: 0.9590 - val_loss: 0.0560 - val_accuracy: 0.9909\n",
      "Epoch 73/200\n",
      "14/14 [==============================] - 0s 4ms/step - loss: 0.1644 - accuracy: 0.9248 - val_loss: 0.0565 - val_accuracy: 0.9818\n",
      "Epoch 74/200\n",
      "14/14 [==============================] - 0s 4ms/step - loss: 0.1207 - accuracy: 0.9567 - val_loss: 0.0574 - val_accuracy: 0.9818\n",
      "Epoch 75/200\n",
      "14/14 [==============================] - 0s 4ms/step - loss: 0.1281 - accuracy: 0.9613 - val_loss: 0.0565 - val_accuracy: 0.9818\n",
      "Epoch 76/200\n",
      "14/14 [==============================] - 0s 4ms/step - loss: 0.1081 - accuracy: 0.9704 - val_loss: 0.0560 - val_accuracy: 0.9818\n",
      "Epoch 77/200\n",
      "14/14 [==============================] - 0s 4ms/step - loss: 0.1281 - accuracy: 0.9567 - val_loss: 0.0542 - val_accuracy: 0.9818\n",
      "Epoch 78/200\n",
      "14/14 [==============================] - 0s 4ms/step - loss: 0.1472 - accuracy: 0.9522 - val_loss: 0.0535 - val_accuracy: 0.9818\n",
      "Epoch 79/200\n",
      "14/14 [==============================] - 0s 4ms/step - loss: 0.1687 - accuracy: 0.9431 - val_loss: 0.0519 - val_accuracy: 0.9909\n",
      "Epoch 80/200\n",
      "14/14 [==============================] - 0s 4ms/step - loss: 0.1533 - accuracy: 0.9362 - val_loss: 0.0508 - val_accuracy: 0.9909\n",
      "Epoch 81/200\n",
      "14/14 [==============================] - 0s 4ms/step - loss: 0.1657 - accuracy: 0.9408 - val_loss: 0.0470 - val_accuracy: 0.9909\n",
      "Epoch 82/200\n",
      "14/14 [==============================] - 0s 4ms/step - loss: 0.1671 - accuracy: 0.9294 - val_loss: 0.0466 - val_accuracy: 0.9909\n",
      "Epoch 83/200\n",
      "14/14 [==============================] - 0s 4ms/step - loss: 0.1548 - accuracy: 0.9476 - val_loss: 0.0482 - val_accuracy: 0.9818\n",
      "Epoch 84/200\n",
      "14/14 [==============================] - 0s 4ms/step - loss: 0.1431 - accuracy: 0.9476 - val_loss: 0.0463 - val_accuracy: 0.9909\n",
      "Epoch 85/200\n",
      "14/14 [==============================] - 0s 4ms/step - loss: 0.1242 - accuracy: 0.9567 - val_loss: 0.0469 - val_accuracy: 0.9909\n",
      "Epoch 86/200\n",
      "14/14 [==============================] - 0s 4ms/step - loss: 0.1603 - accuracy: 0.9408 - val_loss: 0.0475 - val_accuracy: 0.9909\n",
      "Epoch 87/200\n",
      "14/14 [==============================] - 0s 4ms/step - loss: 0.1077 - accuracy: 0.9658 - val_loss: 0.0496 - val_accuracy: 0.9818\n",
      "Epoch 88/200\n",
      "14/14 [==============================] - 0s 4ms/step - loss: 0.1722 - accuracy: 0.9339 - val_loss: 0.0534 - val_accuracy: 0.9727\n",
      "Epoch 89/200\n",
      "14/14 [==============================] - 0s 4ms/step - loss: 0.1968 - accuracy: 0.9339 - val_loss: 0.0495 - val_accuracy: 0.9818\n",
      "Epoch 90/200\n",
      "14/14 [==============================] - 0s 4ms/step - loss: 0.1569 - accuracy: 0.9499 - val_loss: 0.0501 - val_accuracy: 0.9818\n",
      "Epoch 91/200\n",
      "14/14 [==============================] - 0s 4ms/step - loss: 0.1335 - accuracy: 0.9476 - val_loss: 0.0515 - val_accuracy: 0.9727\n",
      "Epoch 92/200\n",
      "14/14 [==============================] - 0s 4ms/step - loss: 0.1533 - accuracy: 0.9499 - val_loss: 0.0530 - val_accuracy: 0.9818\n",
      "Epoch 93/200\n",
      "14/14 [==============================] - 0s 4ms/step - loss: 0.1294 - accuracy: 0.9476 - val_loss: 0.0537 - val_accuracy: 0.9818\n",
      "Epoch 94/200\n",
      "14/14 [==============================] - 0s 4ms/step - loss: 0.1436 - accuracy: 0.9408 - val_loss: 0.0532 - val_accuracy: 0.9818\n",
      "Epoch 95/200\n",
      "14/14 [==============================] - 0s 4ms/step - loss: 0.1500 - accuracy: 0.9408 - val_loss: 0.0555 - val_accuracy: 0.9727\n",
      "Epoch 96/200\n",
      "14/14 [==============================] - 0s 4ms/step - loss: 0.1338 - accuracy: 0.9476 - val_loss: 0.0554 - val_accuracy: 0.9727\n",
      "Epoch 97/200\n",
      "14/14 [==============================] - 0s 4ms/step - loss: 0.1589 - accuracy: 0.9431 - val_loss: 0.0555 - val_accuracy: 0.9727\n",
      "Epoch 98/200\n",
      "14/14 [==============================] - 0s 4ms/step - loss: 0.1362 - accuracy: 0.9499 - val_loss: 0.0567 - val_accuracy: 0.9727\n",
      "Epoch 99/200\n",
      "14/14 [==============================] - 0s 4ms/step - loss: 0.1508 - accuracy: 0.9362 - val_loss: 0.0565 - val_accuracy: 0.9727\n",
      "Epoch 100/200\n",
      "14/14 [==============================] - 0s 4ms/step - loss: 0.1174 - accuracy: 0.9636 - val_loss: 0.0544 - val_accuracy: 0.9727\n",
      "Epoch 101/200\n",
      "14/14 [==============================] - 0s 4ms/step - loss: 0.0989 - accuracy: 0.9704 - val_loss: 0.0542 - val_accuracy: 0.9727\n",
      "Epoch 102/200\n",
      "14/14 [==============================] - 0s 3ms/step - loss: 0.1629 - accuracy: 0.9362 - val_loss: 0.0523 - val_accuracy: 0.9818\n",
      "Epoch 103/200\n",
      "14/14 [==============================] - 0s 4ms/step - loss: 0.1295 - accuracy: 0.9522 - val_loss: 0.0527 - val_accuracy: 0.9818\n",
      "Epoch 104/200\n",
      "14/14 [==============================] - 0s 4ms/step - loss: 0.0941 - accuracy: 0.9658 - val_loss: 0.0528 - val_accuracy: 0.9818\n",
      "Epoch 105/200\n",
      "14/14 [==============================] - 0s 4ms/step - loss: 0.1310 - accuracy: 0.9408 - val_loss: 0.0549 - val_accuracy: 0.9727\n",
      "Epoch 106/200\n",
      "14/14 [==============================] - 0s 4ms/step - loss: 0.0985 - accuracy: 0.9727 - val_loss: 0.0574 - val_accuracy: 0.9727\n",
      "Epoch 107/200\n",
      "14/14 [==============================] - 0s 4ms/step - loss: 0.1561 - accuracy: 0.9339 - val_loss: 0.0593 - val_accuracy: 0.9727\n",
      "Epoch 108/200\n",
      "14/14 [==============================] - 0s 4ms/step - loss: 0.1354 - accuracy: 0.9567 - val_loss: 0.0592 - val_accuracy: 0.9727\n",
      "Epoch 109/200\n",
      "14/14 [==============================] - 0s 4ms/step - loss: 0.1371 - accuracy: 0.9522 - val_loss: 0.0599 - val_accuracy: 0.9727\n",
      "Epoch 110/200\n",
      "14/14 [==============================] - 0s 4ms/step - loss: 0.1135 - accuracy: 0.9636 - val_loss: 0.0603 - val_accuracy: 0.9727\n",
      "Epoch 111/200\n",
      "14/14 [==============================] - 0s 4ms/step - loss: 0.1409 - accuracy: 0.9431 - val_loss: 0.0605 - val_accuracy: 0.9727\n",
      "Epoch 112/200\n",
      "14/14 [==============================] - 0s 4ms/step - loss: 0.1138 - accuracy: 0.9681 - val_loss: 0.0602 - val_accuracy: 0.9727\n",
      "Epoch 113/200\n",
      "14/14 [==============================] - 0s 4ms/step - loss: 0.0846 - accuracy: 0.9749 - val_loss: 0.0616 - val_accuracy: 0.9727\n",
      "Epoch 114/200\n",
      "14/14 [==============================] - 0s 4ms/step - loss: 0.1688 - accuracy: 0.9362 - val_loss: 0.0614 - val_accuracy: 0.9727\n",
      "Epoch 115/200\n",
      "14/14 [==============================] - 0s 4ms/step - loss: 0.1457 - accuracy: 0.9339 - val_loss: 0.0589 - val_accuracy: 0.9727\n",
      "Epoch 116/200\n",
      "14/14 [==============================] - 0s 4ms/step - loss: 0.1199 - accuracy: 0.9499 - val_loss: 0.0558 - val_accuracy: 0.9727\n",
      "Epoch 117/200\n",
      "14/14 [==============================] - 0s 3ms/step - loss: 0.1267 - accuracy: 0.9476 - val_loss: 0.0526 - val_accuracy: 0.9818\n",
      "Epoch 118/200\n",
      "14/14 [==============================] - 0s 3ms/step - loss: 0.1050 - accuracy: 0.9681 - val_loss: 0.0536 - val_accuracy: 0.9818\n",
      "Epoch 119/200\n",
      "14/14 [==============================] - 0s 3ms/step - loss: 0.1447 - accuracy: 0.9476 - val_loss: 0.0532 - val_accuracy: 0.9818\n",
      "Epoch 120/200\n",
      "14/14 [==============================] - 0s 3ms/step - loss: 0.1721 - accuracy: 0.9294 - val_loss: 0.0487 - val_accuracy: 0.9818\n",
      "Epoch 121/200\n",
      "14/14 [==============================] - 0s 3ms/step - loss: 0.1130 - accuracy: 0.9658 - val_loss: 0.0487 - val_accuracy: 0.9818\n",
      "Epoch 122/200\n",
      "14/14 [==============================] - 0s 4ms/step - loss: 0.1086 - accuracy: 0.9681 - val_loss: 0.0473 - val_accuracy: 0.9818\n",
      "Epoch 123/200\n",
      "14/14 [==============================] - 0s 4ms/step - loss: 0.1089 - accuracy: 0.9567 - val_loss: 0.0497 - val_accuracy: 0.9818\n",
      "Epoch 124/200\n",
      "14/14 [==============================] - 0s 3ms/step - loss: 0.1258 - accuracy: 0.9476 - val_loss: 0.0491 - val_accuracy: 0.9818\n",
      "Epoch 125/200\n",
      "14/14 [==============================] - 0s 4ms/step - loss: 0.1626 - accuracy: 0.9385 - val_loss: 0.0485 - val_accuracy: 0.9818\n",
      "Epoch 126/200\n",
      "14/14 [==============================] - 0s 4ms/step - loss: 0.1359 - accuracy: 0.9522 - val_loss: 0.0524 - val_accuracy: 0.9818\n",
      "Epoch 127/200\n",
      "14/14 [==============================] - 0s 4ms/step - loss: 0.1086 - accuracy: 0.9613 - val_loss: 0.0552 - val_accuracy: 0.9818\n",
      "Epoch 128/200\n",
      "14/14 [==============================] - 0s 4ms/step - loss: 0.1477 - accuracy: 0.9522 - val_loss: 0.0579 - val_accuracy: 0.9727\n",
      "Epoch 129/200\n",
      "14/14 [==============================] - 0s 4ms/step - loss: 0.1442 - accuracy: 0.9453 - val_loss: 0.0576 - val_accuracy: 0.9727\n",
      "Epoch 130/200\n",
      "14/14 [==============================] - 0s 4ms/step - loss: 0.1911 - accuracy: 0.9203 - val_loss: 0.0522 - val_accuracy: 0.9818\n",
      "Epoch 131/200\n",
      "14/14 [==============================] - 0s 4ms/step - loss: 0.1217 - accuracy: 0.9567 - val_loss: 0.0488 - val_accuracy: 0.9818\n",
      "Epoch 132/200\n",
      "14/14 [==============================] - 0s 4ms/step - loss: 0.1428 - accuracy: 0.9385 - val_loss: 0.0453 - val_accuracy: 0.9818\n",
      "Epoch 133/200\n",
      "14/14 [==============================] - 0s 4ms/step - loss: 0.1782 - accuracy: 0.9362 - val_loss: 0.0463 - val_accuracy: 0.9818\n",
      "Epoch 134/200\n",
      "14/14 [==============================] - 0s 4ms/step - loss: 0.1456 - accuracy: 0.9431 - val_loss: 0.0468 - val_accuracy: 0.9818\n",
      "Epoch 135/200\n",
      "14/14 [==============================] - 0s 4ms/step - loss: 0.1516 - accuracy: 0.9385 - val_loss: 0.0484 - val_accuracy: 0.9818\n",
      "Epoch 136/200\n",
      "14/14 [==============================] - 0s 4ms/step - loss: 0.1351 - accuracy: 0.9567 - val_loss: 0.0491 - val_accuracy: 0.9818\n",
      "Epoch 137/200\n",
      "14/14 [==============================] - 0s 4ms/step - loss: 0.1163 - accuracy: 0.9453 - val_loss: 0.0535 - val_accuracy: 0.9818\n",
      "Epoch 138/200\n",
      "14/14 [==============================] - 0s 4ms/step - loss: 0.1237 - accuracy: 0.9431 - val_loss: 0.0594 - val_accuracy: 0.9818\n",
      "Epoch 139/200\n",
      "14/14 [==============================] - 0s 4ms/step - loss: 0.1280 - accuracy: 0.9499 - val_loss: 0.0583 - val_accuracy: 0.9818\n",
      "Epoch 140/200\n",
      "14/14 [==============================] - 0s 3ms/step - loss: 0.1186 - accuracy: 0.9613 - val_loss: 0.0576 - val_accuracy: 0.9818\n",
      "Epoch 141/200\n",
      "14/14 [==============================] - 0s 4ms/step - loss: 0.0974 - accuracy: 0.9681 - val_loss: 0.0593 - val_accuracy: 0.9818\n",
      "Epoch 142/200\n",
      "14/14 [==============================] - 0s 3ms/step - loss: 0.1162 - accuracy: 0.9544 - val_loss: 0.0589 - val_accuracy: 0.9818\n",
      "Epoch 143/200\n",
      "14/14 [==============================] - 0s 3ms/step - loss: 0.1167 - accuracy: 0.9590 - val_loss: 0.0589 - val_accuracy: 0.9818\n",
      "Epoch 144/200\n",
      "14/14 [==============================] - 0s 4ms/step - loss: 0.1147 - accuracy: 0.9567 - val_loss: 0.0631 - val_accuracy: 0.9727\n",
      "Epoch 145/200\n",
      "14/14 [==============================] - 0s 4ms/step - loss: 0.1043 - accuracy: 0.9658 - val_loss: 0.0667 - val_accuracy: 0.9727\n",
      "Epoch 146/200\n",
      "14/14 [==============================] - 0s 4ms/step - loss: 0.0975 - accuracy: 0.9658 - val_loss: 0.0636 - val_accuracy: 0.9818\n",
      "Epoch 147/200\n",
      "14/14 [==============================] - 0s 3ms/step - loss: 0.1058 - accuracy: 0.9636 - val_loss: 0.0622 - val_accuracy: 0.9818\n",
      "Epoch 148/200\n",
      "14/14 [==============================] - 0s 4ms/step - loss: 0.1420 - accuracy: 0.9499 - val_loss: 0.0570 - val_accuracy: 0.9818\n",
      "Epoch 149/200\n",
      "14/14 [==============================] - 0s 4ms/step - loss: 0.1644 - accuracy: 0.9362 - val_loss: 0.0534 - val_accuracy: 0.9818\n",
      "Epoch 150/200\n",
      "14/14 [==============================] - 0s 4ms/step - loss: 0.1192 - accuracy: 0.9544 - val_loss: 0.0523 - val_accuracy: 0.9818\n",
      "Epoch 151/200\n",
      "14/14 [==============================] - 0s 6ms/step - loss: 0.1409 - accuracy: 0.9544 - val_loss: 0.0537 - val_accuracy: 0.9818\n",
      "Epoch 152/200\n",
      "14/14 [==============================] - 0s 4ms/step - loss: 0.1547 - accuracy: 0.9385 - val_loss: 0.0539 - val_accuracy: 0.9818\n",
      "Epoch 153/200\n",
      "14/14 [==============================] - 0s 4ms/step - loss: 0.1734 - accuracy: 0.9226 - val_loss: 0.0546 - val_accuracy: 0.9818\n",
      "Epoch 154/200\n",
      "14/14 [==============================] - 0s 5ms/step - loss: 0.1140 - accuracy: 0.9636 - val_loss: 0.0539 - val_accuracy: 0.9818\n",
      "Epoch 155/200\n",
      "14/14 [==============================] - 0s 4ms/step - loss: 0.1407 - accuracy: 0.9544 - val_loss: 0.0546 - val_accuracy: 0.9818\n",
      "Epoch 156/200\n",
      "14/14 [==============================] - 0s 4ms/step - loss: 0.1456 - accuracy: 0.9408 - val_loss: 0.0584 - val_accuracy: 0.9727\n",
      "Epoch 157/200\n",
      "14/14 [==============================] - 0s 4ms/step - loss: 0.0975 - accuracy: 0.9704 - val_loss: 0.0574 - val_accuracy: 0.9818\n",
      "Epoch 158/200\n",
      "14/14 [==============================] - 0s 4ms/step - loss: 0.1138 - accuracy: 0.9590 - val_loss: 0.0639 - val_accuracy: 0.9727\n",
      "Epoch 159/200\n",
      "14/14 [==============================] - 0s 4ms/step - loss: 0.1258 - accuracy: 0.9544 - val_loss: 0.0658 - val_accuracy: 0.9727\n",
      "Epoch 160/200\n",
      "14/14 [==============================] - 0s 3ms/step - loss: 0.1578 - accuracy: 0.9408 - val_loss: 0.0607 - val_accuracy: 0.9727\n",
      "Epoch 161/200\n",
      "14/14 [==============================] - 0s 4ms/step - loss: 0.1442 - accuracy: 0.9431 - val_loss: 0.0626 - val_accuracy: 0.9727\n",
      "Epoch 162/200\n",
      "14/14 [==============================] - 0s 4ms/step - loss: 0.1120 - accuracy: 0.9613 - val_loss: 0.0665 - val_accuracy: 0.9727\n",
      "Epoch 163/200\n",
      "14/14 [==============================] - 0s 4ms/step - loss: 0.1559 - accuracy: 0.9248 - val_loss: 0.0676 - val_accuracy: 0.9727\n",
      "Epoch 164/200\n",
      "14/14 [==============================] - 0s 4ms/step - loss: 0.0995 - accuracy: 0.9704 - val_loss: 0.0671 - val_accuracy: 0.9818\n",
      "Epoch 165/200\n",
      "14/14 [==============================] - 0s 4ms/step - loss: 0.1317 - accuracy: 0.9453 - val_loss: 0.0649 - val_accuracy: 0.9818\n",
      "Epoch 166/200\n",
      "14/14 [==============================] - 0s 4ms/step - loss: 0.1601 - accuracy: 0.9362 - val_loss: 0.0641 - val_accuracy: 0.9818\n",
      "Epoch 167/200\n",
      "14/14 [==============================] - 0s 4ms/step - loss: 0.1325 - accuracy: 0.9499 - val_loss: 0.0652 - val_accuracy: 0.9818\n",
      "Epoch 168/200\n",
      "14/14 [==============================] - 0s 4ms/step - loss: 0.1286 - accuracy: 0.9522 - val_loss: 0.0677 - val_accuracy: 0.9818\n",
      "Epoch 169/200\n",
      "14/14 [==============================] - 0s 4ms/step - loss: 0.1241 - accuracy: 0.9522 - val_loss: 0.0665 - val_accuracy: 0.9818\n",
      "Epoch 170/200\n",
      "14/14 [==============================] - 0s 4ms/step - loss: 0.1074 - accuracy: 0.9613 - val_loss: 0.0654 - val_accuracy: 0.9818\n",
      "Epoch 171/200\n",
      "14/14 [==============================] - 0s 4ms/step - loss: 0.1161 - accuracy: 0.9613 - val_loss: 0.0623 - val_accuracy: 0.9818\n",
      "Epoch 172/200\n",
      "14/14 [==============================] - 0s 4ms/step - loss: 0.1126 - accuracy: 0.9704 - val_loss: 0.0621 - val_accuracy: 0.9818\n",
      "Epoch 173/200\n",
      "14/14 [==============================] - 0s 4ms/step - loss: 0.1515 - accuracy: 0.9408 - val_loss: 0.0616 - val_accuracy: 0.9818\n",
      "Epoch 174/200\n",
      "14/14 [==============================] - 0s 4ms/step - loss: 0.1152 - accuracy: 0.9613 - val_loss: 0.0603 - val_accuracy: 0.9818\n",
      "Epoch 175/200\n",
      "14/14 [==============================] - 0s 4ms/step - loss: 0.1285 - accuracy: 0.9476 - val_loss: 0.0575 - val_accuracy: 0.9818\n",
      "Epoch 176/200\n",
      "14/14 [==============================] - 0s 4ms/step - loss: 0.1514 - accuracy: 0.9522 - val_loss: 0.0555 - val_accuracy: 0.9818\n",
      "Epoch 177/200\n",
      "14/14 [==============================] - 0s 4ms/step - loss: 0.1571 - accuracy: 0.9339 - val_loss: 0.0541 - val_accuracy: 0.9818\n",
      "Epoch 178/200\n",
      "14/14 [==============================] - 0s 4ms/step - loss: 0.1875 - accuracy: 0.9294 - val_loss: 0.0520 - val_accuracy: 0.9818\n",
      "Epoch 179/200\n",
      "14/14 [==============================] - 0s 4ms/step - loss: 0.1543 - accuracy: 0.9476 - val_loss: 0.0533 - val_accuracy: 0.9818\n",
      "Epoch 180/200\n",
      "14/14 [==============================] - 0s 4ms/step - loss: 0.1235 - accuracy: 0.9590 - val_loss: 0.0565 - val_accuracy: 0.9818\n",
      "Epoch 181/200\n",
      "14/14 [==============================] - 0s 4ms/step - loss: 0.1181 - accuracy: 0.9636 - val_loss: 0.0591 - val_accuracy: 0.9818\n",
      "Epoch 182/200\n",
      "14/14 [==============================] - 0s 4ms/step - loss: 0.1214 - accuracy: 0.9567 - val_loss: 0.0593 - val_accuracy: 0.9818\n",
      "Epoch 183/200\n",
      "14/14 [==============================] - 0s 4ms/step - loss: 0.0899 - accuracy: 0.9658 - val_loss: 0.0580 - val_accuracy: 0.9818\n",
      "Epoch 184/200\n",
      "14/14 [==============================] - 0s 4ms/step - loss: 0.1275 - accuracy: 0.9476 - val_loss: 0.0578 - val_accuracy: 0.9818\n",
      "Epoch 185/200\n",
      "14/14 [==============================] - 0s 4ms/step - loss: 0.1191 - accuracy: 0.9567 - val_loss: 0.0580 - val_accuracy: 0.9818\n",
      "Epoch 186/200\n",
      "14/14 [==============================] - 0s 5ms/step - loss: 0.1435 - accuracy: 0.9544 - val_loss: 0.0596 - val_accuracy: 0.9818\n",
      "Epoch 187/200\n",
      "14/14 [==============================] - 0s 4ms/step - loss: 0.1285 - accuracy: 0.9476 - val_loss: 0.0615 - val_accuracy: 0.9818\n",
      "Epoch 188/200\n",
      "14/14 [==============================] - 0s 4ms/step - loss: 0.1322 - accuracy: 0.9476 - val_loss: 0.0624 - val_accuracy: 0.9818\n",
      "Epoch 189/200\n",
      "14/14 [==============================] - 0s 4ms/step - loss: 0.1705 - accuracy: 0.9339 - val_loss: 0.0571 - val_accuracy: 0.9818\n",
      "Epoch 190/200\n",
      "14/14 [==============================] - 0s 4ms/step - loss: 0.1016 - accuracy: 0.9636 - val_loss: 0.0560 - val_accuracy: 0.9818\n",
      "Epoch 191/200\n",
      "14/14 [==============================] - 0s 4ms/step - loss: 0.1062 - accuracy: 0.9544 - val_loss: 0.0586 - val_accuracy: 0.9818\n",
      "Epoch 192/200\n",
      "14/14 [==============================] - 0s 4ms/step - loss: 0.1800 - accuracy: 0.9431 - val_loss: 0.0643 - val_accuracy: 0.9818\n",
      "Epoch 193/200\n",
      "14/14 [==============================] - 0s 4ms/step - loss: 0.0913 - accuracy: 0.9727 - val_loss: 0.0673 - val_accuracy: 0.9818\n",
      "Epoch 194/200\n",
      "14/14 [==============================] - 0s 4ms/step - loss: 0.1090 - accuracy: 0.9681 - val_loss: 0.0638 - val_accuracy: 0.9818\n",
      "Epoch 195/200\n",
      "14/14 [==============================] - 0s 4ms/step - loss: 0.1417 - accuracy: 0.9499 - val_loss: 0.0668 - val_accuracy: 0.9818\n",
      "Epoch 196/200\n",
      "14/14 [==============================] - 0s 4ms/step - loss: 0.1499 - accuracy: 0.9408 - val_loss: 0.0694 - val_accuracy: 0.9727\n",
      "Epoch 197/200\n",
      "14/14 [==============================] - 0s 4ms/step - loss: 0.1225 - accuracy: 0.9499 - val_loss: 0.0676 - val_accuracy: 0.9818\n",
      "Epoch 198/200\n",
      "14/14 [==============================] - 0s 4ms/step - loss: 0.1199 - accuracy: 0.9613 - val_loss: 0.0663 - val_accuracy: 0.9818\n",
      "Epoch 199/200\n",
      "14/14 [==============================] - 0s 4ms/step - loss: 0.1334 - accuracy: 0.9590 - val_loss: 0.0713 - val_accuracy: 0.9818\n",
      "Epoch 200/200\n",
      "14/14 [==============================] - 0s 4ms/step - loss: 0.1076 - accuracy: 0.9636 - val_loss: 0.0757 - val_accuracy: 0.9727\n"
     ]
    }
   ],
   "source": [
    "model = the_model()\n",
    "hist = model.fit(x_train, y_train, epochs=epoch, validation_data=(x_test,y_test))"
   ]
  },
  {
   "cell_type": "code",
   "execution_count": 32,
   "metadata": {
    "execution": {
     "iopub.execute_input": "2020-11-17T19:26:27.065281Z",
     "iopub.status.busy": "2020-11-17T19:26:27.064476Z",
     "iopub.status.idle": "2020-11-17T19:26:42.615463Z",
     "shell.execute_reply": "2020-11-17T19:26:42.614713Z"
    },
    "papermill": {
     "duration": 15.781724,
     "end_time": "2020-11-17T19:26:42.615612",
     "exception": false,
     "start_time": "2020-11-17T19:26:26.833888",
     "status": "completed"
    },
    "tags": []
   },
   "outputs": [
    {
     "name": "stdout",
     "output_type": "stream",
     "text": [
      "Epoch 1/200\n",
      "18/18 [==============================] - 0s 14ms/step - loss: 1.0804 - accuracy: 0.5214 - val_loss: 0.6724 - val_accuracy: 0.6439\n",
      "Epoch 2/200\n",
      "18/18 [==============================] - 0s 3ms/step - loss: 0.6857 - accuracy: 0.6571 - val_loss: 0.6375 - val_accuracy: 0.8939\n",
      "Epoch 3/200\n",
      "18/18 [==============================] - 0s 3ms/step - loss: 0.5400 - accuracy: 0.7393 - val_loss: 0.6031 - val_accuracy: 0.9621\n",
      "Epoch 4/200\n",
      "18/18 [==============================] - 0s 3ms/step - loss: 0.4752 - accuracy: 0.7821 - val_loss: 0.5673 - val_accuracy: 0.9848\n",
      "Epoch 5/200\n",
      "18/18 [==============================] - 0s 3ms/step - loss: 0.4216 - accuracy: 0.8196 - val_loss: 0.5342 - val_accuracy: 0.9924\n",
      "Epoch 6/200\n",
      "18/18 [==============================] - 0s 3ms/step - loss: 0.3813 - accuracy: 0.8232 - val_loss: 0.4962 - val_accuracy: 0.9924\n",
      "Epoch 7/200\n",
      "18/18 [==============================] - 0s 3ms/step - loss: 0.3746 - accuracy: 0.8393 - val_loss: 0.4577 - val_accuracy: 0.9924\n",
      "Epoch 8/200\n",
      "18/18 [==============================] - 0s 3ms/step - loss: 0.3143 - accuracy: 0.8679 - val_loss: 0.4146 - val_accuracy: 0.9924\n",
      "Epoch 9/200\n",
      "18/18 [==============================] - 0s 3ms/step - loss: 0.3163 - accuracy: 0.8804 - val_loss: 0.3760 - val_accuracy: 0.9773\n",
      "Epoch 10/200\n",
      "18/18 [==============================] - 0s 4ms/step - loss: 0.3333 - accuracy: 0.8732 - val_loss: 0.3417 - val_accuracy: 0.9697\n",
      "Epoch 11/200\n",
      "18/18 [==============================] - 0s 3ms/step - loss: 0.2821 - accuracy: 0.8768 - val_loss: 0.3079 - val_accuracy: 0.9697\n",
      "Epoch 12/200\n",
      "18/18 [==============================] - 0s 3ms/step - loss: 0.2994 - accuracy: 0.8804 - val_loss: 0.2761 - val_accuracy: 0.9773\n",
      "Epoch 13/200\n",
      "18/18 [==============================] - 0s 3ms/step - loss: 0.2661 - accuracy: 0.9054 - val_loss: 0.2461 - val_accuracy: 0.9773\n",
      "Epoch 14/200\n",
      "18/18 [==============================] - 0s 4ms/step - loss: 0.2475 - accuracy: 0.9143 - val_loss: 0.2185 - val_accuracy: 0.9773\n",
      "Epoch 15/200\n",
      "18/18 [==============================] - 0s 3ms/step - loss: 0.2487 - accuracy: 0.9000 - val_loss: 0.1938 - val_accuracy: 0.9773\n",
      "Epoch 16/200\n",
      "18/18 [==============================] - 0s 3ms/step - loss: 0.2194 - accuracy: 0.9232 - val_loss: 0.1727 - val_accuracy: 0.9773\n",
      "Epoch 17/200\n",
      "18/18 [==============================] - 0s 4ms/step - loss: 0.2170 - accuracy: 0.9161 - val_loss: 0.1505 - val_accuracy: 0.9773\n",
      "Epoch 18/200\n",
      "18/18 [==============================] - 0s 3ms/step - loss: 0.2440 - accuracy: 0.9125 - val_loss: 0.1333 - val_accuracy: 0.9773\n",
      "Epoch 19/200\n",
      "18/18 [==============================] - 0s 3ms/step - loss: 0.2189 - accuracy: 0.9196 - val_loss: 0.1187 - val_accuracy: 0.9773\n",
      "Epoch 20/200\n",
      "18/18 [==============================] - 0s 3ms/step - loss: 0.2419 - accuracy: 0.8946 - val_loss: 0.1070 - val_accuracy: 0.9773\n",
      "Epoch 21/200\n",
      "18/18 [==============================] - 0s 3ms/step - loss: 0.1887 - accuracy: 0.9375 - val_loss: 0.0990 - val_accuracy: 0.9773\n",
      "Epoch 22/200\n",
      "18/18 [==============================] - 0s 3ms/step - loss: 0.2030 - accuracy: 0.9339 - val_loss: 0.0902 - val_accuracy: 0.9773\n",
      "Epoch 23/200\n",
      "18/18 [==============================] - 0s 3ms/step - loss: 0.2292 - accuracy: 0.9107 - val_loss: 0.0815 - val_accuracy: 0.9773\n",
      "Epoch 24/200\n",
      "18/18 [==============================] - 0s 4ms/step - loss: 0.1801 - accuracy: 0.9321 - val_loss: 0.0756 - val_accuracy: 0.9773\n",
      "Epoch 25/200\n",
      "18/18 [==============================] - 0s 3ms/step - loss: 0.1800 - accuracy: 0.9286 - val_loss: 0.0703 - val_accuracy: 0.9773\n",
      "Epoch 26/200\n",
      "18/18 [==============================] - 0s 4ms/step - loss: 0.2157 - accuracy: 0.9125 - val_loss: 0.0689 - val_accuracy: 0.9773\n",
      "Epoch 27/200\n",
      "18/18 [==============================] - 0s 3ms/step - loss: 0.1816 - accuracy: 0.9375 - val_loss: 0.0649 - val_accuracy: 0.9773\n",
      "Epoch 28/200\n",
      "18/18 [==============================] - 0s 3ms/step - loss: 0.1813 - accuracy: 0.9286 - val_loss: 0.0605 - val_accuracy: 0.9773\n",
      "Epoch 29/200\n",
      "18/18 [==============================] - 0s 4ms/step - loss: 0.2127 - accuracy: 0.9143 - val_loss: 0.0569 - val_accuracy: 0.9773\n",
      "Epoch 30/200\n",
      "18/18 [==============================] - 0s 3ms/step - loss: 0.1750 - accuracy: 0.9393 - val_loss: 0.0535 - val_accuracy: 0.9848\n",
      "Epoch 31/200\n",
      "18/18 [==============================] - 0s 3ms/step - loss: 0.2240 - accuracy: 0.9143 - val_loss: 0.0551 - val_accuracy: 0.9848\n",
      "Epoch 32/200\n",
      "18/18 [==============================] - 0s 3ms/step - loss: 0.1582 - accuracy: 0.9393 - val_loss: 0.0556 - val_accuracy: 0.9848\n",
      "Epoch 33/200\n",
      "18/18 [==============================] - 0s 3ms/step - loss: 0.1668 - accuracy: 0.9393 - val_loss: 0.0543 - val_accuracy: 0.9848\n",
      "Epoch 34/200\n",
      "18/18 [==============================] - 0s 4ms/step - loss: 0.1731 - accuracy: 0.9357 - val_loss: 0.0490 - val_accuracy: 0.9848\n",
      "Epoch 35/200\n",
      "18/18 [==============================] - 0s 4ms/step - loss: 0.1831 - accuracy: 0.9286 - val_loss: 0.0461 - val_accuracy: 0.9848\n",
      "Epoch 36/200\n",
      "18/18 [==============================] - 0s 3ms/step - loss: 0.1898 - accuracy: 0.9268 - val_loss: 0.0467 - val_accuracy: 0.9848\n",
      "Epoch 37/200\n",
      "18/18 [==============================] - 0s 4ms/step - loss: 0.1290 - accuracy: 0.9589 - val_loss: 0.0480 - val_accuracy: 0.9848\n",
      "Epoch 38/200\n",
      "18/18 [==============================] - 0s 4ms/step - loss: 0.1619 - accuracy: 0.9357 - val_loss: 0.0484 - val_accuracy: 0.9848\n",
      "Epoch 39/200\n",
      "18/18 [==============================] - 0s 3ms/step - loss: 0.1587 - accuracy: 0.9482 - val_loss: 0.0470 - val_accuracy: 0.9848\n",
      "Epoch 40/200\n",
      "18/18 [==============================] - 0s 3ms/step - loss: 0.1479 - accuracy: 0.9518 - val_loss: 0.0488 - val_accuracy: 0.9848\n",
      "Epoch 41/200\n",
      "18/18 [==============================] - 0s 3ms/step - loss: 0.1629 - accuracy: 0.9393 - val_loss: 0.0485 - val_accuracy: 0.9848\n",
      "Epoch 42/200\n",
      "18/18 [==============================] - 0s 3ms/step - loss: 0.1781 - accuracy: 0.9375 - val_loss: 0.0460 - val_accuracy: 0.9848\n",
      "Epoch 43/200\n",
      "18/18 [==============================] - 0s 4ms/step - loss: 0.2015 - accuracy: 0.9268 - val_loss: 0.0415 - val_accuracy: 0.9848\n",
      "Epoch 44/200\n",
      "18/18 [==============================] - 0s 3ms/step - loss: 0.1469 - accuracy: 0.9500 - val_loss: 0.0426 - val_accuracy: 0.9848\n",
      "Epoch 45/200\n",
      "18/18 [==============================] - 0s 3ms/step - loss: 0.1358 - accuracy: 0.9571 - val_loss: 0.0429 - val_accuracy: 0.9848\n",
      "Epoch 46/200\n",
      "18/18 [==============================] - 0s 3ms/step - loss: 0.1378 - accuracy: 0.9607 - val_loss: 0.0415 - val_accuracy: 0.9848\n",
      "Epoch 47/200\n",
      "18/18 [==============================] - 0s 3ms/step - loss: 0.1688 - accuracy: 0.9232 - val_loss: 0.0432 - val_accuracy: 0.9848\n",
      "Epoch 48/200\n",
      "18/18 [==============================] - 0s 3ms/step - loss: 0.1519 - accuracy: 0.9268 - val_loss: 0.0452 - val_accuracy: 0.9848\n",
      "Epoch 49/200\n",
      "18/18 [==============================] - 0s 3ms/step - loss: 0.1356 - accuracy: 0.9482 - val_loss: 0.0455 - val_accuracy: 0.9848\n",
      "Epoch 50/200\n",
      "18/18 [==============================] - 0s 3ms/step - loss: 0.1498 - accuracy: 0.9464 - val_loss: 0.0468 - val_accuracy: 0.9848\n",
      "Epoch 51/200\n",
      "18/18 [==============================] - 0s 3ms/step - loss: 0.1621 - accuracy: 0.9339 - val_loss: 0.0475 - val_accuracy: 0.9848\n",
      "Epoch 52/200\n",
      "18/18 [==============================] - 0s 3ms/step - loss: 0.1638 - accuracy: 0.9375 - val_loss: 0.0466 - val_accuracy: 0.9848\n",
      "Epoch 53/200\n",
      "18/18 [==============================] - 0s 3ms/step - loss: 0.1694 - accuracy: 0.9375 - val_loss: 0.0463 - val_accuracy: 0.9848\n",
      "Epoch 54/200\n",
      "18/18 [==============================] - 0s 3ms/step - loss: 0.1414 - accuracy: 0.9446 - val_loss: 0.0476 - val_accuracy: 0.9848\n",
      "Epoch 55/200\n",
      "18/18 [==============================] - 0s 3ms/step - loss: 0.1436 - accuracy: 0.9518 - val_loss: 0.0471 - val_accuracy: 0.9848\n",
      "Epoch 56/200\n",
      "18/18 [==============================] - 0s 3ms/step - loss: 0.1356 - accuracy: 0.9536 - val_loss: 0.0468 - val_accuracy: 0.9848\n",
      "Epoch 57/200\n",
      "18/18 [==============================] - 0s 3ms/step - loss: 0.1647 - accuracy: 0.9464 - val_loss: 0.0470 - val_accuracy: 0.9848\n",
      "Epoch 58/200\n",
      "18/18 [==============================] - 0s 3ms/step - loss: 0.1122 - accuracy: 0.9661 - val_loss: 0.0501 - val_accuracy: 0.9773\n",
      "Epoch 59/200\n",
      "18/18 [==============================] - 0s 4ms/step - loss: 0.1559 - accuracy: 0.9357 - val_loss: 0.0520 - val_accuracy: 0.9773\n",
      "Epoch 60/200\n",
      "18/18 [==============================] - 0s 3ms/step - loss: 0.1473 - accuracy: 0.9429 - val_loss: 0.0518 - val_accuracy: 0.9773\n",
      "Epoch 61/200\n",
      "18/18 [==============================] - 0s 3ms/step - loss: 0.1518 - accuracy: 0.9500 - val_loss: 0.0509 - val_accuracy: 0.9697\n",
      "Epoch 62/200\n",
      "18/18 [==============================] - 0s 3ms/step - loss: 0.1845 - accuracy: 0.9268 - val_loss: 0.0490 - val_accuracy: 0.9773\n",
      "Epoch 63/200\n",
      "18/18 [==============================] - 0s 3ms/step - loss: 0.1394 - accuracy: 0.9554 - val_loss: 0.0483 - val_accuracy: 0.9773\n",
      "Epoch 64/200\n",
      "18/18 [==============================] - 0s 3ms/step - loss: 0.1493 - accuracy: 0.9393 - val_loss: 0.0455 - val_accuracy: 0.9848\n",
      "Epoch 65/200\n",
      "18/18 [==============================] - 0s 4ms/step - loss: 0.1854 - accuracy: 0.9339 - val_loss: 0.0452 - val_accuracy: 0.9848\n",
      "Epoch 66/200\n",
      "18/18 [==============================] - 0s 3ms/step - loss: 0.1462 - accuracy: 0.9393 - val_loss: 0.0465 - val_accuracy: 0.9773\n",
      "Epoch 67/200\n",
      "18/18 [==============================] - 0s 3ms/step - loss: 0.1995 - accuracy: 0.9214 - val_loss: 0.0495 - val_accuracy: 0.9773\n",
      "Epoch 68/200\n",
      "18/18 [==============================] - 0s 3ms/step - loss: 0.1605 - accuracy: 0.9321 - val_loss: 0.0469 - val_accuracy: 0.9773\n",
      "Epoch 69/200\n",
      "18/18 [==============================] - 0s 4ms/step - loss: 0.1590 - accuracy: 0.9500 - val_loss: 0.0438 - val_accuracy: 0.9773\n",
      "Epoch 70/200\n",
      "18/18 [==============================] - 0s 3ms/step - loss: 0.1552 - accuracy: 0.9482 - val_loss: 0.0437 - val_accuracy: 0.9848\n",
      "Epoch 71/200\n",
      "18/18 [==============================] - 0s 3ms/step - loss: 0.1687 - accuracy: 0.9357 - val_loss: 0.0430 - val_accuracy: 0.9848\n",
      "Epoch 72/200\n",
      "18/18 [==============================] - 0s 4ms/step - loss: 0.1667 - accuracy: 0.9464 - val_loss: 0.0434 - val_accuracy: 0.9848\n",
      "Epoch 73/200\n",
      "18/18 [==============================] - 0s 3ms/step - loss: 0.1410 - accuracy: 0.9482 - val_loss: 0.0445 - val_accuracy: 0.9848\n",
      "Epoch 74/200\n",
      "18/18 [==============================] - 0s 3ms/step - loss: 0.1531 - accuracy: 0.9482 - val_loss: 0.0459 - val_accuracy: 0.9773\n",
      "Epoch 75/200\n",
      "18/18 [==============================] - 0s 3ms/step - loss: 0.1544 - accuracy: 0.9500 - val_loss: 0.0478 - val_accuracy: 0.9773\n",
      "Epoch 76/200\n",
      "18/18 [==============================] - 0s 3ms/step - loss: 0.1559 - accuracy: 0.9607 - val_loss: 0.0435 - val_accuracy: 0.9848\n",
      "Epoch 77/200\n",
      "18/18 [==============================] - 0s 3ms/step - loss: 0.1433 - accuracy: 0.9536 - val_loss: 0.0435 - val_accuracy: 0.9848\n",
      "Epoch 78/200\n",
      "18/18 [==============================] - 0s 4ms/step - loss: 0.1386 - accuracy: 0.9464 - val_loss: 0.0442 - val_accuracy: 0.9848\n",
      "Epoch 79/200\n",
      "18/18 [==============================] - 0s 3ms/step - loss: 0.1655 - accuracy: 0.9375 - val_loss: 0.0433 - val_accuracy: 0.9848\n",
      "Epoch 80/200\n",
      "18/18 [==============================] - 0s 3ms/step - loss: 0.1367 - accuracy: 0.9518 - val_loss: 0.0426 - val_accuracy: 0.9848\n",
      "Epoch 81/200\n",
      "18/18 [==============================] - 0s 3ms/step - loss: 0.1173 - accuracy: 0.9679 - val_loss: 0.0429 - val_accuracy: 0.9848\n",
      "Epoch 82/200\n",
      "18/18 [==============================] - 0s 3ms/step - loss: 0.1220 - accuracy: 0.9589 - val_loss: 0.0429 - val_accuracy: 0.9848\n",
      "Epoch 83/200\n",
      "18/18 [==============================] - 0s 3ms/step - loss: 0.1421 - accuracy: 0.9446 - val_loss: 0.0429 - val_accuracy: 0.9848\n",
      "Epoch 84/200\n",
      "18/18 [==============================] - 0s 3ms/step - loss: 0.1108 - accuracy: 0.9643 - val_loss: 0.0434 - val_accuracy: 0.9848\n",
      "Epoch 85/200\n",
      "18/18 [==============================] - 0s 3ms/step - loss: 0.1420 - accuracy: 0.9536 - val_loss: 0.0419 - val_accuracy: 0.9848\n",
      "Epoch 86/200\n",
      "18/18 [==============================] - 0s 3ms/step - loss: 0.1269 - accuracy: 0.9500 - val_loss: 0.0407 - val_accuracy: 0.9848\n",
      "Epoch 87/200\n",
      "18/18 [==============================] - 0s 3ms/step - loss: 0.1118 - accuracy: 0.9554 - val_loss: 0.0386 - val_accuracy: 0.9848\n",
      "Epoch 88/200\n",
      "18/18 [==============================] - 0s 3ms/step - loss: 0.1231 - accuracy: 0.9536 - val_loss: 0.0383 - val_accuracy: 0.9848\n",
      "Epoch 89/200\n",
      "18/18 [==============================] - 0s 4ms/step - loss: 0.1319 - accuracy: 0.9518 - val_loss: 0.0400 - val_accuracy: 0.9848\n",
      "Epoch 90/200\n",
      "18/18 [==============================] - 0s 3ms/step - loss: 0.1267 - accuracy: 0.9536 - val_loss: 0.0443 - val_accuracy: 0.9848\n",
      "Epoch 91/200\n",
      "18/18 [==============================] - 0s 3ms/step - loss: 0.1116 - accuracy: 0.9571 - val_loss: 0.0453 - val_accuracy: 0.9848\n",
      "Epoch 92/200\n",
      "18/18 [==============================] - 0s 3ms/step - loss: 0.1407 - accuracy: 0.9554 - val_loss: 0.0455 - val_accuracy: 0.9848\n",
      "Epoch 93/200\n",
      "18/18 [==============================] - 0s 3ms/step - loss: 0.1380 - accuracy: 0.9607 - val_loss: 0.0452 - val_accuracy: 0.9848\n",
      "Epoch 94/200\n",
      "18/18 [==============================] - 0s 3ms/step - loss: 0.0918 - accuracy: 0.9732 - val_loss: 0.0454 - val_accuracy: 0.9848\n",
      "Epoch 95/200\n",
      "18/18 [==============================] - 0s 4ms/step - loss: 0.1458 - accuracy: 0.9482 - val_loss: 0.0487 - val_accuracy: 0.9697\n",
      "Epoch 96/200\n",
      "18/18 [==============================] - 0s 3ms/step - loss: 0.1331 - accuracy: 0.9536 - val_loss: 0.0536 - val_accuracy: 0.9697\n",
      "Epoch 97/200\n",
      "18/18 [==============================] - 0s 4ms/step - loss: 0.1460 - accuracy: 0.9500 - val_loss: 0.0538 - val_accuracy: 0.9697\n",
      "Epoch 98/200\n",
      "18/18 [==============================] - 0s 3ms/step - loss: 0.1454 - accuracy: 0.9446 - val_loss: 0.0532 - val_accuracy: 0.9697\n",
      "Epoch 99/200\n",
      "18/18 [==============================] - 0s 3ms/step - loss: 0.1318 - accuracy: 0.9482 - val_loss: 0.0518 - val_accuracy: 0.9697\n",
      "Epoch 100/200\n",
      "18/18 [==============================] - 0s 3ms/step - loss: 0.1751 - accuracy: 0.9339 - val_loss: 0.0481 - val_accuracy: 0.9773\n",
      "Epoch 101/200\n",
      "18/18 [==============================] - 0s 4ms/step - loss: 0.1268 - accuracy: 0.9500 - val_loss: 0.0466 - val_accuracy: 0.9848\n",
      "Epoch 102/200\n",
      "18/18 [==============================] - 0s 3ms/step - loss: 0.0937 - accuracy: 0.9714 - val_loss: 0.0487 - val_accuracy: 0.9697\n",
      "Epoch 103/200\n",
      "18/18 [==============================] - 0s 4ms/step - loss: 0.1250 - accuracy: 0.9607 - val_loss: 0.0486 - val_accuracy: 0.9697\n",
      "Epoch 104/200\n",
      "18/18 [==============================] - 0s 4ms/step - loss: 0.1193 - accuracy: 0.9589 - val_loss: 0.0494 - val_accuracy: 0.9697\n",
      "Epoch 105/200\n",
      "18/18 [==============================] - 0s 4ms/step - loss: 0.1325 - accuracy: 0.9536 - val_loss: 0.0461 - val_accuracy: 0.9773\n",
      "Epoch 106/200\n",
      "18/18 [==============================] - 0s 4ms/step - loss: 0.1591 - accuracy: 0.9446 - val_loss: 0.0473 - val_accuracy: 0.9773\n",
      "Epoch 107/200\n",
      "18/18 [==============================] - 0s 4ms/step - loss: 0.1240 - accuracy: 0.9554 - val_loss: 0.0464 - val_accuracy: 0.9848\n",
      "Epoch 108/200\n",
      "18/18 [==============================] - 0s 3ms/step - loss: 0.1093 - accuracy: 0.9607 - val_loss: 0.0441 - val_accuracy: 0.9848\n",
      "Epoch 109/200\n",
      "18/18 [==============================] - 0s 3ms/step - loss: 0.1113 - accuracy: 0.9589 - val_loss: 0.0453 - val_accuracy: 0.9773\n",
      "Epoch 110/200\n",
      "18/18 [==============================] - 0s 3ms/step - loss: 0.1670 - accuracy: 0.9464 - val_loss: 0.0491 - val_accuracy: 0.9773\n",
      "Epoch 111/200\n",
      "18/18 [==============================] - 0s 3ms/step - loss: 0.1049 - accuracy: 0.9643 - val_loss: 0.0507 - val_accuracy: 0.9773\n",
      "Epoch 112/200\n",
      "18/18 [==============================] - 0s 4ms/step - loss: 0.1144 - accuracy: 0.9607 - val_loss: 0.0523 - val_accuracy: 0.9848\n",
      "Epoch 113/200\n",
      "18/18 [==============================] - 0s 4ms/step - loss: 0.0957 - accuracy: 0.9625 - val_loss: 0.0552 - val_accuracy: 0.9697\n",
      "Epoch 114/200\n",
      "18/18 [==============================] - 0s 4ms/step - loss: 0.1105 - accuracy: 0.9625 - val_loss: 0.0563 - val_accuracy: 0.9697\n",
      "Epoch 115/200\n",
      "18/18 [==============================] - 0s 3ms/step - loss: 0.1324 - accuracy: 0.9536 - val_loss: 0.0566 - val_accuracy: 0.9697\n",
      "Epoch 116/200\n",
      "18/18 [==============================] - 0s 3ms/step - loss: 0.1745 - accuracy: 0.9357 - val_loss: 0.0548 - val_accuracy: 0.9697\n",
      "Epoch 117/200\n",
      "18/18 [==============================] - 0s 3ms/step - loss: 0.1367 - accuracy: 0.9518 - val_loss: 0.0545 - val_accuracy: 0.9697\n",
      "Epoch 118/200\n",
      "18/18 [==============================] - 0s 3ms/step - loss: 0.1260 - accuracy: 0.9482 - val_loss: 0.0521 - val_accuracy: 0.9697\n",
      "Epoch 119/200\n",
      "18/18 [==============================] - 0s 3ms/step - loss: 0.1169 - accuracy: 0.9554 - val_loss: 0.0486 - val_accuracy: 0.9773\n",
      "Epoch 120/200\n",
      "18/18 [==============================] - 0s 3ms/step - loss: 0.0928 - accuracy: 0.9714 - val_loss: 0.0513 - val_accuracy: 0.9697\n",
      "Epoch 121/200\n",
      "18/18 [==============================] - 0s 3ms/step - loss: 0.1252 - accuracy: 0.9500 - val_loss: 0.0497 - val_accuracy: 0.9697\n",
      "Epoch 122/200\n",
      "18/18 [==============================] - 0s 3ms/step - loss: 0.1158 - accuracy: 0.9661 - val_loss: 0.0512 - val_accuracy: 0.9697\n",
      "Epoch 123/200\n",
      "18/18 [==============================] - 0s 3ms/step - loss: 0.1017 - accuracy: 0.9571 - val_loss: 0.0558 - val_accuracy: 0.9697\n",
      "Epoch 124/200\n",
      "18/18 [==============================] - 0s 3ms/step - loss: 0.1015 - accuracy: 0.9589 - val_loss: 0.0596 - val_accuracy: 0.9697\n",
      "Epoch 125/200\n",
      "18/18 [==============================] - 0s 3ms/step - loss: 0.1139 - accuracy: 0.9518 - val_loss: 0.0561 - val_accuracy: 0.9697\n",
      "Epoch 126/200\n",
      "18/18 [==============================] - 0s 3ms/step - loss: 0.1205 - accuracy: 0.9500 - val_loss: 0.0517 - val_accuracy: 0.9697\n",
      "Epoch 127/200\n",
      "18/18 [==============================] - 0s 3ms/step - loss: 0.1266 - accuracy: 0.9571 - val_loss: 0.0525 - val_accuracy: 0.9697\n",
      "Epoch 128/200\n",
      "18/18 [==============================] - 0s 3ms/step - loss: 0.1570 - accuracy: 0.9393 - val_loss: 0.0526 - val_accuracy: 0.9697\n",
      "Epoch 129/200\n",
      "18/18 [==============================] - 0s 3ms/step - loss: 0.1506 - accuracy: 0.9411 - val_loss: 0.0566 - val_accuracy: 0.9697\n",
      "Epoch 130/200\n",
      "18/18 [==============================] - 0s 3ms/step - loss: 0.1267 - accuracy: 0.9589 - val_loss: 0.0614 - val_accuracy: 0.9697\n",
      "Epoch 131/200\n",
      "18/18 [==============================] - 0s 3ms/step - loss: 0.1358 - accuracy: 0.9536 - val_loss: 0.0587 - val_accuracy: 0.9697\n",
      "Epoch 132/200\n",
      "18/18 [==============================] - 0s 3ms/step - loss: 0.1335 - accuracy: 0.9589 - val_loss: 0.0567 - val_accuracy: 0.9697\n",
      "Epoch 133/200\n",
      "18/18 [==============================] - 0s 3ms/step - loss: 0.1059 - accuracy: 0.9571 - val_loss: 0.0520 - val_accuracy: 0.9697\n",
      "Epoch 134/200\n",
      "18/18 [==============================] - 0s 3ms/step - loss: 0.1264 - accuracy: 0.9482 - val_loss: 0.0516 - val_accuracy: 0.9697\n",
      "Epoch 135/200\n",
      "18/18 [==============================] - 0s 3ms/step - loss: 0.1256 - accuracy: 0.9429 - val_loss: 0.0556 - val_accuracy: 0.9697\n",
      "Epoch 136/200\n",
      "18/18 [==============================] - 0s 3ms/step - loss: 0.1233 - accuracy: 0.9554 - val_loss: 0.0622 - val_accuracy: 0.9697\n",
      "Epoch 137/200\n",
      "18/18 [==============================] - 0s 3ms/step - loss: 0.0977 - accuracy: 0.9554 - val_loss: 0.0633 - val_accuracy: 0.9697\n",
      "Epoch 138/200\n",
      "18/18 [==============================] - 0s 3ms/step - loss: 0.1080 - accuracy: 0.9607 - val_loss: 0.0671 - val_accuracy: 0.9697\n",
      "Epoch 139/200\n",
      "18/18 [==============================] - 0s 4ms/step - loss: 0.1113 - accuracy: 0.9714 - val_loss: 0.0644 - val_accuracy: 0.9697\n",
      "Epoch 140/200\n",
      "18/18 [==============================] - 0s 3ms/step - loss: 0.1262 - accuracy: 0.9518 - val_loss: 0.0654 - val_accuracy: 0.9697\n",
      "Epoch 141/200\n",
      "18/18 [==============================] - 0s 3ms/step - loss: 0.0813 - accuracy: 0.9732 - val_loss: 0.0624 - val_accuracy: 0.9697\n",
      "Epoch 142/200\n",
      "18/18 [==============================] - 0s 3ms/step - loss: 0.1342 - accuracy: 0.9536 - val_loss: 0.0597 - val_accuracy: 0.9697\n",
      "Epoch 143/200\n",
      "18/18 [==============================] - 0s 3ms/step - loss: 0.0980 - accuracy: 0.9607 - val_loss: 0.0630 - val_accuracy: 0.9697\n",
      "Epoch 144/200\n",
      "18/18 [==============================] - 0s 3ms/step - loss: 0.1180 - accuracy: 0.9589 - val_loss: 0.0676 - val_accuracy: 0.9697\n",
      "Epoch 145/200\n",
      "18/18 [==============================] - 0s 3ms/step - loss: 0.1419 - accuracy: 0.9429 - val_loss: 0.0631 - val_accuracy: 0.9697\n",
      "Epoch 146/200\n",
      "18/18 [==============================] - 0s 3ms/step - loss: 0.1191 - accuracy: 0.9536 - val_loss: 0.0613 - val_accuracy: 0.9697\n",
      "Epoch 147/200\n",
      "18/18 [==============================] - 0s 3ms/step - loss: 0.1135 - accuracy: 0.9661 - val_loss: 0.0614 - val_accuracy: 0.9697\n",
      "Epoch 148/200\n",
      "18/18 [==============================] - 0s 3ms/step - loss: 0.1452 - accuracy: 0.9339 - val_loss: 0.0628 - val_accuracy: 0.9697\n",
      "Epoch 149/200\n",
      "18/18 [==============================] - 0s 3ms/step - loss: 0.1380 - accuracy: 0.9536 - val_loss: 0.0622 - val_accuracy: 0.9697\n",
      "Epoch 150/200\n",
      "18/18 [==============================] - 0s 3ms/step - loss: 0.1404 - accuracy: 0.9429 - val_loss: 0.0607 - val_accuracy: 0.9697\n",
      "Epoch 151/200\n",
      "18/18 [==============================] - 0s 3ms/step - loss: 0.0867 - accuracy: 0.9696 - val_loss: 0.0603 - val_accuracy: 0.9697\n",
      "Epoch 152/200\n",
      "18/18 [==============================] - 0s 4ms/step - loss: 0.1428 - accuracy: 0.9446 - val_loss: 0.0533 - val_accuracy: 0.9697\n",
      "Epoch 153/200\n",
      "18/18 [==============================] - 0s 4ms/step - loss: 0.0933 - accuracy: 0.9679 - val_loss: 0.0505 - val_accuracy: 0.9697\n",
      "Epoch 154/200\n",
      "18/18 [==============================] - 0s 4ms/step - loss: 0.1129 - accuracy: 0.9625 - val_loss: 0.0491 - val_accuracy: 0.9697\n",
      "Epoch 155/200\n",
      "18/18 [==============================] - 0s 3ms/step - loss: 0.1126 - accuracy: 0.9464 - val_loss: 0.0530 - val_accuracy: 0.9697\n",
      "Epoch 156/200\n",
      "18/18 [==============================] - 0s 3ms/step - loss: 0.1798 - accuracy: 0.9411 - val_loss: 0.0500 - val_accuracy: 0.9697\n",
      "Epoch 157/200\n",
      "18/18 [==============================] - 0s 3ms/step - loss: 0.1195 - accuracy: 0.9554 - val_loss: 0.0481 - val_accuracy: 0.9697\n",
      "Epoch 158/200\n",
      "18/18 [==============================] - 0s 3ms/step - loss: 0.1711 - accuracy: 0.9304 - val_loss: 0.0510 - val_accuracy: 0.9697\n",
      "Epoch 159/200\n",
      "18/18 [==============================] - 0s 3ms/step - loss: 0.1499 - accuracy: 0.9500 - val_loss: 0.0541 - val_accuracy: 0.9697\n",
      "Epoch 160/200\n",
      "18/18 [==============================] - 0s 3ms/step - loss: 0.1053 - accuracy: 0.9607 - val_loss: 0.0508 - val_accuracy: 0.9697\n",
      "Epoch 161/200\n",
      "18/18 [==============================] - 0s 3ms/step - loss: 0.1277 - accuracy: 0.9571 - val_loss: 0.0493 - val_accuracy: 0.9697\n",
      "Epoch 162/200\n",
      "18/18 [==============================] - 0s 3ms/step - loss: 0.1403 - accuracy: 0.9464 - val_loss: 0.0509 - val_accuracy: 0.9697\n",
      "Epoch 163/200\n",
      "18/18 [==============================] - 0s 3ms/step - loss: 0.1497 - accuracy: 0.9429 - val_loss: 0.0538 - val_accuracy: 0.9697\n",
      "Epoch 164/200\n",
      "18/18 [==============================] - 0s 3ms/step - loss: 0.0921 - accuracy: 0.9554 - val_loss: 0.0567 - val_accuracy: 0.9697\n",
      "Epoch 165/200\n",
      "18/18 [==============================] - 0s 3ms/step - loss: 0.1078 - accuracy: 0.9571 - val_loss: 0.0575 - val_accuracy: 0.9697\n",
      "Epoch 166/200\n",
      "18/18 [==============================] - 0s 3ms/step - loss: 0.0909 - accuracy: 0.9661 - val_loss: 0.0553 - val_accuracy: 0.9697\n",
      "Epoch 167/200\n",
      "18/18 [==============================] - 0s 3ms/step - loss: 0.1531 - accuracy: 0.9429 - val_loss: 0.0533 - val_accuracy: 0.9697\n",
      "Epoch 168/200\n",
      "18/18 [==============================] - 0s 3ms/step - loss: 0.1290 - accuracy: 0.9464 - val_loss: 0.0542 - val_accuracy: 0.9697\n",
      "Epoch 169/200\n",
      "18/18 [==============================] - 0s 3ms/step - loss: 0.1190 - accuracy: 0.9536 - val_loss: 0.0526 - val_accuracy: 0.9697\n",
      "Epoch 170/200\n",
      "18/18 [==============================] - 0s 3ms/step - loss: 0.1247 - accuracy: 0.9482 - val_loss: 0.0504 - val_accuracy: 0.9697\n",
      "Epoch 171/200\n",
      "18/18 [==============================] - 0s 3ms/step - loss: 0.1313 - accuracy: 0.9429 - val_loss: 0.0472 - val_accuracy: 0.9773\n",
      "Epoch 172/200\n",
      "18/18 [==============================] - 0s 3ms/step - loss: 0.1367 - accuracy: 0.9500 - val_loss: 0.0460 - val_accuracy: 0.9773\n",
      "Epoch 173/200\n",
      "18/18 [==============================] - 0s 3ms/step - loss: 0.0903 - accuracy: 0.9643 - val_loss: 0.0469 - val_accuracy: 0.9773\n",
      "Epoch 174/200\n",
      "18/18 [==============================] - 0s 3ms/step - loss: 0.1571 - accuracy: 0.9357 - val_loss: 0.0474 - val_accuracy: 0.9773\n",
      "Epoch 175/200\n",
      "18/18 [==============================] - 0s 3ms/step - loss: 0.1157 - accuracy: 0.9607 - val_loss: 0.0494 - val_accuracy: 0.9773\n",
      "Epoch 176/200\n",
      "18/18 [==============================] - 0s 3ms/step - loss: 0.1292 - accuracy: 0.9429 - val_loss: 0.0494 - val_accuracy: 0.9773\n",
      "Epoch 177/200\n",
      "18/18 [==============================] - 0s 3ms/step - loss: 0.0889 - accuracy: 0.9661 - val_loss: 0.0489 - val_accuracy: 0.9773\n",
      "Epoch 178/200\n",
      "18/18 [==============================] - 0s 3ms/step - loss: 0.1068 - accuracy: 0.9536 - val_loss: 0.0521 - val_accuracy: 0.9773\n",
      "Epoch 179/200\n",
      "18/18 [==============================] - 0s 4ms/step - loss: 0.1606 - accuracy: 0.9518 - val_loss: 0.0537 - val_accuracy: 0.9697\n",
      "Epoch 180/200\n",
      "18/18 [==============================] - 0s 4ms/step - loss: 0.0841 - accuracy: 0.9750 - val_loss: 0.0525 - val_accuracy: 0.9773\n",
      "Epoch 181/200\n",
      "18/18 [==============================] - 0s 3ms/step - loss: 0.1274 - accuracy: 0.9589 - val_loss: 0.0512 - val_accuracy: 0.9773\n",
      "Epoch 182/200\n",
      "18/18 [==============================] - 0s 4ms/step - loss: 0.1021 - accuracy: 0.9554 - val_loss: 0.0524 - val_accuracy: 0.9697\n",
      "Epoch 183/200\n",
      "18/18 [==============================] - 0s 4ms/step - loss: 0.1048 - accuracy: 0.9607 - val_loss: 0.0482 - val_accuracy: 0.9773\n",
      "Epoch 184/200\n",
      "18/18 [==============================] - 0s 4ms/step - loss: 0.1020 - accuracy: 0.9625 - val_loss: 0.0472 - val_accuracy: 0.9773\n",
      "Epoch 185/200\n",
      "18/18 [==============================] - 0s 3ms/step - loss: 0.1055 - accuracy: 0.9518 - val_loss: 0.0467 - val_accuracy: 0.9773\n",
      "Epoch 186/200\n",
      "18/18 [==============================] - 0s 4ms/step - loss: 0.1388 - accuracy: 0.9464 - val_loss: 0.0491 - val_accuracy: 0.9773\n",
      "Epoch 187/200\n",
      "18/18 [==============================] - 0s 4ms/step - loss: 0.1213 - accuracy: 0.9482 - val_loss: 0.0527 - val_accuracy: 0.9697\n",
      "Epoch 188/200\n",
      "18/18 [==============================] - 0s 4ms/step - loss: 0.1168 - accuracy: 0.9554 - val_loss: 0.0531 - val_accuracy: 0.9697\n",
      "Epoch 189/200\n",
      "18/18 [==============================] - 0s 4ms/step - loss: 0.1089 - accuracy: 0.9571 - val_loss: 0.0551 - val_accuracy: 0.9697\n",
      "Epoch 190/200\n",
      "18/18 [==============================] - 0s 3ms/step - loss: 0.1047 - accuracy: 0.9643 - val_loss: 0.0574 - val_accuracy: 0.9697\n",
      "Epoch 191/200\n",
      "18/18 [==============================] - 0s 3ms/step - loss: 0.1244 - accuracy: 0.9571 - val_loss: 0.0552 - val_accuracy: 0.9697\n",
      "Epoch 192/200\n",
      "18/18 [==============================] - 0s 4ms/step - loss: 0.1216 - accuracy: 0.9536 - val_loss: 0.0519 - val_accuracy: 0.9697\n",
      "Epoch 193/200\n",
      "18/18 [==============================] - 0s 3ms/step - loss: 0.0809 - accuracy: 0.9696 - val_loss: 0.0523 - val_accuracy: 0.9697\n",
      "Epoch 194/200\n",
      "18/18 [==============================] - 0s 3ms/step - loss: 0.0865 - accuracy: 0.9661 - val_loss: 0.0511 - val_accuracy: 0.9697\n",
      "Epoch 195/200\n",
      "18/18 [==============================] - 0s 3ms/step - loss: 0.1811 - accuracy: 0.9375 - val_loss: 0.0514 - val_accuracy: 0.9697\n",
      "Epoch 196/200\n",
      "18/18 [==============================] - 0s 4ms/step - loss: 0.1510 - accuracy: 0.9411 - val_loss: 0.0543 - val_accuracy: 0.9697\n",
      "Epoch 197/200\n",
      "18/18 [==============================] - 0s 4ms/step - loss: 0.1213 - accuracy: 0.9571 - val_loss: 0.0538 - val_accuracy: 0.9697\n",
      "Epoch 198/200\n",
      "18/18 [==============================] - 0s 4ms/step - loss: 0.0830 - accuracy: 0.9714 - val_loss: 0.0515 - val_accuracy: 0.9697\n",
      "Epoch 199/200\n",
      "18/18 [==============================] - 0s 4ms/step - loss: 0.1180 - accuracy: 0.9518 - val_loss: 0.0534 - val_accuracy: 0.9697\n",
      "Epoch 200/200\n",
      "18/18 [==============================] - 0s 4ms/step - loss: 0.0981 - accuracy: 0.9607 - val_loss: 0.0559 - val_accuracy: 0.9697\n"
     ]
    }
   ],
   "source": [
    "model1 = the_model()\n",
    "hist1 = model1.fit(x_train_f, y_train_f, epochs=epoch, validation_data=(x_test_f,y_test_f))"
   ]
  },
  {
   "cell_type": "code",
   "execution_count": 33,
   "metadata": {
    "execution": {
     "iopub.execute_input": "2020-11-17T19:26:43.465433Z",
     "iopub.status.busy": "2020-11-17T19:26:43.464603Z",
     "iopub.status.idle": "2020-11-17T19:26:43.728141Z",
     "shell.execute_reply": "2020-11-17T19:26:43.727439Z"
    },
    "papermill": {
     "duration": 0.685365,
     "end_time": "2020-11-17T19:26:43.728268",
     "exception": false,
     "start_time": "2020-11-17T19:26:43.042903",
     "status": "completed"
    },
    "tags": []
   },
   "outputs": [
    {
     "data": {
      "image/png": "[encoded data removed]",
      "text/plain": [
       "<Figure size 1296x360 with 1 Axes>"
      ]
     },
     "metadata": {
      "needs_background": "light"
     },
     "output_type": "display_data"
    }
   ],
   "source": [
    "pd.DataFrame(hist.history).plot(figsize=(18, 5))\n",
    "plt.grid(True)\n",
    "plt.gca().set_ylim(0,1)\n",
    "plt.show()"
   ]
  },
  {
   "cell_type": "code",
   "execution_count": 34,
   "metadata": {
    "execution": {
     "iopub.execute_input": "2020-11-17T19:26:44.576036Z",
     "iopub.status.busy": "2020-11-17T19:26:44.569120Z",
     "iopub.status.idle": "2020-11-17T19:26:44.812089Z",
     "shell.execute_reply": "2020-11-17T19:26:44.811402Z"
    },
    "papermill": {
     "duration": 0.670401,
     "end_time": "2020-11-17T19:26:44.812233",
     "exception": false,
     "start_time": "2020-11-17T19:26:44.141832",
     "status": "completed"
    },
    "tags": []
   },
   "outputs": [
    {
     "data": {
      "image/png": "[encoded data removed]",
      "text/plain": [
       "<Figure size 1296x360 with 1 Axes>"
      ]
     },
     "metadata": {
      "needs_background": "light"
     },
     "output_type": "display_data"
    }
   ],
   "source": [
    "pd.DataFrame(hist1.history).plot(figsize=(18, 5))\n",
    "plt.grid(True)\n",
    "plt.gca().set_ylim(0,1)\n",
    "plt.show()"
   ]
  },
  {
   "cell_type": "code",
   "execution_count": 35,
   "metadata": {
    "execution": {
     "iopub.execute_input": "2020-11-17T19:26:45.670111Z",
     "iopub.status.busy": "2020-11-17T19:26:45.669004Z",
     "iopub.status.idle": "2020-11-17T19:26:45.674306Z",
     "shell.execute_reply": "2020-11-17T19:26:45.674877Z"
    },
    "papermill": {
     "duration": 0.447185,
     "end_time": "2020-11-17T19:26:45.675049",
     "exception": false,
     "start_time": "2020-11-17T19:26:45.227864",
     "status": "completed"
    },
    "tags": []
   },
   "outputs": [
    {
     "data": {
      "text/html": [
       "<div>\n",
       "<style scoped>\n",
       "    .dataframe tbody tr th:only-of-type {\n",
       "        vertical-align: middle;\n",
       "    }\n",
       "\n",
       "    .dataframe tbody tr th {\n",
       "        vertical-align: top;\n",
       "    }\n",
       "\n",
       "    .dataframe thead th {\n",
       "        text-align: right;\n",
       "    }\n",
       "</style>\n",
       "<table border=\"1\" class=\"dataframe\">\n",
       "  <thead>\n",
       "    <tr style=\"text-align: right;\">\n",
       "      <th></th>\n",
       "      <th>loss</th>\n",
       "      <th>accuracy</th>\n",
       "      <th>val_loss</th>\n",
       "      <th>val_accuracy</th>\n",
       "    </tr>\n",
       "  </thead>\n",
       "  <tbody>\n",
       "    <tr>\n",
       "      <th>195</th>\n",
       "      <td>0.149882</td>\n",
       "      <td>0.940775</td>\n",
       "      <td>0.069445</td>\n",
       "      <td>0.972727</td>\n",
       "    </tr>\n",
       "    <tr>\n",
       "      <th>196</th>\n",
       "      <td>0.122502</td>\n",
       "      <td>0.949886</td>\n",
       "      <td>0.067643</td>\n",
       "      <td>0.981818</td>\n",
       "    </tr>\n",
       "    <tr>\n",
       "      <th>197</th>\n",
       "      <td>0.119912</td>\n",
       "      <td>0.961276</td>\n",
       "      <td>0.066263</td>\n",
       "      <td>0.981818</td>\n",
       "    </tr>\n",
       "    <tr>\n",
       "      <th>198</th>\n",
       "      <td>0.133440</td>\n",
       "      <td>0.958998</td>\n",
       "      <td>0.071324</td>\n",
       "      <td>0.981818</td>\n",
       "    </tr>\n",
       "    <tr>\n",
       "      <th>199</th>\n",
       "      <td>0.107622</td>\n",
       "      <td>0.963554</td>\n",
       "      <td>0.075725</td>\n",
       "      <td>0.972727</td>\n",
       "    </tr>\n",
       "  </tbody>\n",
       "</table>\n",
       "</div>"
      ],
      "text/plain": [
       "         loss  accuracy  val_loss  val_accuracy\n",
       "195  0.149882  0.940775  0.069445      0.972727\n",
       "196  0.122502  0.949886  0.067643      0.981818\n",
       "197  0.119912  0.961276  0.066263      0.981818\n",
       "198  0.133440  0.958998  0.071324      0.981818\n",
       "199  0.107622  0.963554  0.075725      0.972727"
      ]
     },
     "execution_count": 35,
     "metadata": {},
     "output_type": "execute_result"
    }
   ],
   "source": [
    "pd.DataFrame(hist.history).tail()"
   ]
  },
  {
   "cell_type": "code",
   "execution_count": 36,
   "metadata": {
    "execution": {
     "iopub.execute_input": "2020-11-17T19:26:46.533239Z",
     "iopub.status.busy": "2020-11-17T19:26:46.529051Z",
     "iopub.status.idle": "2020-11-17T19:26:46.539120Z",
     "shell.execute_reply": "2020-11-17T19:26:46.538311Z"
    },
    "papermill": {
     "duration": 0.445496,
     "end_time": "2020-11-17T19:26:46.539260",
     "exception": false,
     "start_time": "2020-11-17T19:26:46.093764",
     "status": "completed"
    },
    "tags": []
   },
   "outputs": [
    {
     "data": {
      "text/html": [
       "<div>\n",
       "<style scoped>\n",
       "    .dataframe tbody tr th:only-of-type {\n",
       "        vertical-align: middle;\n",
       "    }\n",
       "\n",
       "    .dataframe tbody tr th {\n",
       "        vertical-align: top;\n",
       "    }\n",
       "\n",
       "    .dataframe thead th {\n",
       "        text-align: right;\n",
       "    }\n",
       "</style>\n",
       "<table border=\"1\" class=\"dataframe\">\n",
       "  <thead>\n",
       "    <tr style=\"text-align: right;\">\n",
       "      <th></th>\n",
       "      <th>loss</th>\n",
       "      <th>accuracy</th>\n",
       "      <th>val_loss</th>\n",
       "      <th>val_accuracy</th>\n",
       "    </tr>\n",
       "  </thead>\n",
       "  <tbody>\n",
       "    <tr>\n",
       "      <th>195</th>\n",
       "      <td>0.151025</td>\n",
       "      <td>0.941071</td>\n",
       "      <td>0.054282</td>\n",
       "      <td>0.969697</td>\n",
       "    </tr>\n",
       "    <tr>\n",
       "      <th>196</th>\n",
       "      <td>0.121277</td>\n",
       "      <td>0.957143</td>\n",
       "      <td>0.053760</td>\n",
       "      <td>0.969697</td>\n",
       "    </tr>\n",
       "    <tr>\n",
       "      <th>197</th>\n",
       "      <td>0.082954</td>\n",
       "      <td>0.971429</td>\n",
       "      <td>0.051469</td>\n",
       "      <td>0.969697</td>\n",
       "    </tr>\n",
       "    <tr>\n",
       "      <th>198</th>\n",
       "      <td>0.118015</td>\n",
       "      <td>0.951786</td>\n",
       "      <td>0.053350</td>\n",
       "      <td>0.969697</td>\n",
       "    </tr>\n",
       "    <tr>\n",
       "      <th>199</th>\n",
       "      <td>0.098059</td>\n",
       "      <td>0.960714</td>\n",
       "      <td>0.055899</td>\n",
       "      <td>0.969697</td>\n",
       "    </tr>\n",
       "  </tbody>\n",
       "</table>\n",
       "</div>"
      ],
      "text/plain": [
       "         loss  accuracy  val_loss  val_accuracy\n",
       "195  0.151025  0.941071  0.054282      0.969697\n",
       "196  0.121277  0.957143  0.053760      0.969697\n",
       "197  0.082954  0.971429  0.051469      0.969697\n",
       "198  0.118015  0.951786  0.053350      0.969697\n",
       "199  0.098059  0.960714  0.055899      0.969697"
      ]
     },
     "execution_count": 36,
     "metadata": {},
     "output_type": "execute_result"
    }
   ],
   "source": [
    "pd.DataFrame(hist1.history).tail()"
   ]
  },
  {
   "cell_type": "markdown",
   "metadata": {
    "papermill": {
     "duration": 0.417399,
     "end_time": "2020-11-17T19:26:47.380521",
     "exception": false,
     "start_time": "2020-11-17T19:26:46.963122",
     "status": "completed"
    },
    "tags": []
   },
   "source": [
    "# Prediction"
   ]
  },
  {
   "cell_type": "code",
   "execution_count": 37,
   "metadata": {
    "execution": {
     "iopub.execute_input": "2020-11-17T19:26:48.310874Z",
     "iopub.status.busy": "2020-11-17T19:26:48.309799Z",
     "iopub.status.idle": "2020-11-17T19:26:48.313044Z",
     "shell.execute_reply": "2020-11-17T19:26:48.312304Z"
    },
    "papermill": {
     "duration": 0.430148,
     "end_time": "2020-11-17T19:26:48.313192",
     "exception": false,
     "start_time": "2020-11-17T19:26:47.883044",
     "status": "completed"
    },
    "tags": []
   },
   "outputs": [],
   "source": [
    "valid_x = scl.fit_transform(test_set.iloc[:,1:])"
   ]
  },
  {
   "cell_type": "code",
   "execution_count": 38,
   "metadata": {
    "execution": {
     "iopub.execute_input": "2020-11-17T19:26:49.191688Z",
     "iopub.status.busy": "2020-11-17T19:26:49.190851Z",
     "iopub.status.idle": "2020-11-17T19:26:49.194618Z",
     "shell.execute_reply": "2020-11-17T19:26:49.194001Z"
    },
    "papermill": {
     "duration": 0.424336,
     "end_time": "2020-11-17T19:26:49.194756",
     "exception": false,
     "start_time": "2020-11-17T19:26:48.770420",
     "status": "completed"
    },
    "tags": []
   },
   "outputs": [],
   "source": [
    "valid_y=test_set.iloc[:,:1]"
   ]
  },
  {
   "cell_type": "code",
   "execution_count": 39,
   "metadata": {
    "execution": {
     "iopub.execute_input": "2020-11-17T19:26:50.036979Z",
     "iopub.status.busy": "2020-11-17T19:26:50.036172Z",
     "iopub.status.idle": "2020-11-17T19:26:50.041102Z",
     "shell.execute_reply": "2020-11-17T19:26:50.040252Z"
    },
    "papermill": {
     "duration": 0.425585,
     "end_time": "2020-11-17T19:26:50.041256",
     "exception": false,
     "start_time": "2020-11-17T19:26:49.615671",
     "status": "completed"
    },
    "tags": []
   },
   "outputs": [
    {
     "name": "stdout",
     "output_type": "stream",
     "text": [
      "(20, 30) (20, 1)\n"
     ]
    }
   ],
   "source": [
    "print(valid_x.shape, valid_y.shape)"
   ]
  },
  {
   "cell_type": "code",
   "execution_count": 40,
   "metadata": {
    "execution": {
     "iopub.execute_input": "2020-11-17T19:26:50.882618Z",
     "iopub.status.busy": "2020-11-17T19:26:50.881705Z",
     "iopub.status.idle": "2020-11-17T19:26:50.885936Z",
     "shell.execute_reply": "2020-11-17T19:26:50.886778Z"
    },
    "papermill": {
     "duration": 0.428851,
     "end_time": "2020-11-17T19:26:50.887018",
     "exception": false,
     "start_time": "2020-11-17T19:26:50.458167",
     "status": "completed"
    },
    "tags": []
   },
   "outputs": [
    {
     "name": "stdout",
     "output_type": "stream",
     "text": [
      "     diagnosis\n",
      "314          0\n",
      "194          1\n",
      "461          1\n",
      "567          1\n",
      "141          1\n",
      "242          0\n",
      "239          1\n",
      "197          1\n",
      "509          1\n",
      "25           1\n",
      "505          0\n",
      "127          1\n",
      "482          0\n",
      "428          0\n",
      "537          0\n",
      "354          0\n",
      "496          0\n",
      "238          0\n",
      "200          0\n",
      "344          0\n"
     ]
    }
   ],
   "source": [
    "print(valid_y)"
   ]
  },
  {
   "cell_type": "code",
   "execution_count": 41,
   "metadata": {
    "execution": {
     "iopub.execute_input": "2020-11-17T19:26:51.740204Z",
     "iopub.status.busy": "2020-11-17T19:26:51.739095Z",
     "iopub.status.idle": "2020-11-17T19:26:51.934210Z",
     "shell.execute_reply": "2020-11-17T19:26:51.933345Z"
    },
    "papermill": {
     "duration": 0.626239,
     "end_time": "2020-11-17T19:26:51.934365",
     "exception": false,
     "start_time": "2020-11-17T19:26:51.308126",
     "status": "completed"
    },
    "tags": []
   },
   "outputs": [],
   "source": [
    "prediction = model.predict(valid_x)"
   ]
  },
  {
   "cell_type": "code",
   "execution_count": 42,
   "metadata": {
    "execution": {
     "iopub.execute_input": "2020-11-17T19:26:52.819355Z",
     "iopub.status.busy": "2020-11-17T19:26:52.818565Z",
     "iopub.status.idle": "2020-11-17T19:26:52.970750Z",
     "shell.execute_reply": "2020-11-17T19:26:52.971395Z"
    },
    "papermill": {
     "duration": 0.620589,
     "end_time": "2020-11-17T19:26:52.971582",
     "exception": false,
     "start_time": "2020-11-17T19:26:52.350993",
     "status": "completed"
    },
    "tags": []
   },
   "outputs": [],
   "source": [
    "prediction1 = model1.predict(valid_x)"
   ]
  },
  {
   "cell_type": "code",
   "execution_count": 43,
   "metadata": {
    "execution": {
     "iopub.execute_input": "2020-11-17T19:26:53.831536Z",
     "iopub.status.busy": "2020-11-17T19:26:53.830610Z",
     "iopub.status.idle": "2020-11-17T19:26:53.840249Z",
     "shell.execute_reply": "2020-11-17T19:26:53.839543Z"
    },
    "papermill": {
     "duration": 0.447726,
     "end_time": "2020-11-17T19:26:53.840416",
     "exception": false,
     "start_time": "2020-11-17T19:26:53.392690",
     "status": "completed"
    },
    "tags": []
   },
   "outputs": [
    {
     "name": "stdout",
     "output_type": "stream",
     "text": [
      "Fine [0]\n",
      "Fine [1]\n",
      "Malignant [1]\n",
      "Malignant [1]\n",
      "Malignant [1]\n",
      "Fine [0]\n",
      "Malignant [1]\n",
      "Fine [1]\n",
      "Malignant [1]\n",
      "Malignant [1]\n",
      "Fine [0]\n",
      "Malignant [1]\n",
      "Fine [0]\n",
      "Fine [0]\n",
      "Fine [0]\n",
      "Fine [0]\n",
      "Fine [0]\n",
      "Fine [0]\n",
      "Fine [0]\n",
      "Fine [0]\n"
     ]
    }
   ],
   "source": [
    "for i,j in zip(prediction, valid_y.values):\n",
    "    if i >= 0.5:\n",
    "        print('Malignant',j)\n",
    "    else: print('Fine',j)"
   ]
  },
  {
   "cell_type": "code",
   "execution_count": 44,
   "metadata": {
    "execution": {
     "iopub.execute_input": "2020-11-17T19:26:54.688815Z",
     "iopub.status.busy": "2020-11-17T19:26:54.687894Z",
     "iopub.status.idle": "2020-11-17T19:26:54.692140Z",
     "shell.execute_reply": "2020-11-17T19:26:54.691581Z"
    },
    "papermill": {
     "duration": 0.433187,
     "end_time": "2020-11-17T19:26:54.692263",
     "exception": false,
     "start_time": "2020-11-17T19:26:54.259076",
     "status": "completed"
    },
    "tags": []
   },
   "outputs": [
    {
     "name": "stdout",
     "output_type": "stream",
     "text": [
      "Fine [0]\n",
      "Fine [1]\n",
      "Malignant [1]\n",
      "Malignant [1]\n",
      "Fine [1]\n",
      "Fine [0]\n",
      "Malignant [1]\n",
      "Fine [1]\n",
      "Malignant [1]\n",
      "Malignant [1]\n",
      "Fine [0]\n",
      "Fine [1]\n",
      "Fine [0]\n",
      "Fine [0]\n",
      "Fine [0]\n",
      "Fine [0]\n",
      "Fine [0]\n",
      "Fine [0]\n",
      "Fine [0]\n",
      "Fine [0]\n"
     ]
    }
   ],
   "source": [
    "for i,j in zip(prediction1, valid_y.values):\n",
    "    if i >= 0.5:\n",
    "        print('Malignant',j)\n",
    "    else: print('Fine',j)"
   ]
  },
  {
   "cell_type": "code",
   "execution_count": null,
   "metadata": {
    "papermill": {
     "duration": 0.431035,
     "end_time": "2020-11-17T19:26:55.587696",
     "exception": false,
     "start_time": "2020-11-17T19:26:55.156661",
     "status": "completed"
    },
    "tags": []
   },
   "outputs": [],
   "source": []
  }
 ],
 "metadata": {
  "kernelspec": {
   "display_name": "Python 3",
   "language": "python",
   "name": "python3"
  },
  "language_info": {
   "codemirror_mode": {
    "name": "ipython",
    "version": 3
   },
   "file_extension": ".py",
   "mimetype": "text/x-python",
   "name": "python",
   "nbconvert_exporter": "python",
   "pygments_lexer": "ipython3",
   "version": "3.7.6"
  },
  "papermill": {
   "duration": 59.70546,
   "end_time": "2020-11-17T19:26:56.120466",
   "environment_variables": {},
   "exception": null,
   "input_path": "__notebook__.ipynb",
   "output_path": "__notebook__.ipynb",
   "parameters": {},
   "start_time": "2020-11-17T19:25:56.415006",
   "version": "2.1.0"
  }
 },
 "nbformat": 4,
 "nbformat_minor": 4
}
